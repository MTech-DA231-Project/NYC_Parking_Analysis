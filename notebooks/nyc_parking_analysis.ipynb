{
 "cells": [
  {
   "cell_type": "markdown",
   "id": "2bd4e305",
   "metadata": {},
   "source": [
    "# NY Parking Violation Data Analysis\n",
    "\n",
    "**Mini Project**\n",
    "\n",
    "IISC | M.Tech (Online) | DSBA\n",
    "DA 231-O Data Engineering at Scale\n",
    "\n",
    "Mentor: **Yogesh Simmhan** (simmhan@iisc.ac.in)"
   ]
  },
  {
   "cell_type": "markdown",
   "id": "9518cdbe",
   "metadata": {},
   "source": [
    "## Team\n",
    "\n",
    "1. Satyam Kumar | satyamk@iisc.ac.in | 9092696415\n",
    "2. Siva Kranthi Kumar Mallipeddi | sivam@iisc.ac.in | 9986778909\n",
    "3. Sreedhar Reddy Vundela | sreedharv@iisc.ac.in | 9886702749\n",
    "4. Sudhakar Kulkarni Mukayya | sudhakark@iisc.ac.in | 9035076656"
   ]
  },
  {
   "cell_type": "markdown",
   "id": "0b8857c2",
   "metadata": {},
   "source": [
    "## Problem\n",
    "\n",
    "* Exploratory data analysis of **NYC Parking violation** data for **2017** – **2021** years (5 years)\n",
    "* Infer from the data analysis findings\n",
    "\n",
    "> **Dataset** : https://data.cityofnewyork.us/City-Government/Parking-Violations-Issued-Fiscal-Year-2022/pvqr-7yc4"
   ]
  },
  {
   "cell_type": "markdown",
   "id": "9e2ca4b1",
   "metadata": {},
   "source": [
    "## Environment\n",
    "\n",
    "* Python 3\n",
    "* Spark 3.0 (colab) / 3.1 (local)\n",
    "* Spark Data Frames & Spark SQL\n",
    "* Local & Google Colab"
   ]
  },
  {
   "cell_type": "markdown",
   "id": "cb77d9c2",
   "metadata": {},
   "source": [
    "## Dataset Details"
   ]
  },
  {
   "cell_type": "markdown",
   "id": "d05c754f",
   "metadata": {},
   "source": [
    "Dataset contains New York city Police Department issued parking violations details"
   ]
  },
  {
   "cell_type": "markdown",
   "id": "1c5b6c9d",
   "metadata": {},
   "source": [
    "### Raw Dataset details\n",
    "- Fiscal year data (July 1 - June 30) is available. That means one file contains data for 2 years\n",
    "- All years data has same 43 columns\n",
    "- Total Number of records: **xxxx** # TODO"
   ]
  },
  {
   "cell_type": "markdown",
   "id": "bf1f2a38",
   "metadata": {},
   "source": [
    "### Processed Data details\n",
    "- Removed 30 columns which are not used in our analysis (Most of the removed columns don't have data for > 50% records)\n",
    "- Total Columns: 13\n",
    "- Total Number of records: **xxxx** # TODO"
   ]
  },
  {
   "cell_type": "markdown",
   "id": "b0719eb4",
   "metadata": {},
   "source": [
    "### Columns Summary"
   ]
  },
  {
   "cell_type": "markdown",
   "id": "53ccb079",
   "metadata": {},
   "source": [
    "| S. No. | Source   Column Name    | Description/Comment                                  |\n",
    "|--------|-------------------------|------------------------------------------------------|\n",
    "| 1      | SUMMONS NUMBER          | UNIQUE IDENTIFIER OF SUMMONS                         |\n",
    "| 2      | PLATE ID                | REGISTERED PLATE ID                                  |\n",
    "| 3      | REGISTRATION STATE      | STATE OF PLATE   REGISTRATION                        |\n",
    "| 4      | PLATE TYPE              | TYPE OF PLATE                                        |\n",
    "| 5      | ISSUE DATE              | ISSUE DATE                                           |\n",
    "| 6      | VIOLATION CODE          | TYPE OF   VIOLATION                                  |\n",
    "| 7      | VEHICLE BODY TYPE       | VEHICLE BODY TYPE   WRITTEN ON SUMMONS (SEDAN, ETC.) |\n",
    "| 8      | VEHICLE MAKE            | MAKE OF CAR WRITTEN ON SUMMONS                       |\n",
    "| 9      | VIOLATION PRECINCT      | POLICE STATION OF VIOLATION                          |\n",
    "| 10     | ISSUER PRECINCT         | PRECINCT OF ISSUANCE                                 |\n",
    "| 11     | VIOLATION TIME          | VIOLATION TIME                                       |\n",
    "| 12     | VEHICLE COLOR           | CAR COLOR WRITTEN ON   SUMMONS                       |\n",
    "| 13     | VIOLATION   DESCRIPTION | DESCRIPTION OF   VIOLATION                           |"
   ]
  },
  {
   "cell_type": "markdown",
   "id": "960ab94e",
   "metadata": {},
   "source": [
    "### Columns Details"
   ]
  },
  {
   "cell_type": "markdown",
   "id": "a56945e8",
   "metadata": {},
   "source": [
    "#### Plate Type\n",
    "\n",
    "Registration Class Codes for vehicles. 3 letters code\n",
    "\n",
    "Common Plate types are \n",
    "* Passenger Vehicles (PAS): standard issue plates\n",
    "* Commercial Vehicles (COM): Full-size vans and most pickups\n",
    "* Medallion (OMT): Taxis\n",
    "* Personalized Plates (SRF): cars, mini-vans, SUVs and some pick-ups registered as passenger class\n",
    "* Special Omnibus Rentals (OMS)\n",
    "\n",
    "https://dmv.ny.gov/registration/registration-class-codes\n",
    "\n",
    "#### Violation Code\n",
    "Type of violation. Codes are from 1-99. Fines are charged based on this\n",
    "\n",
    "https://data.cityofnewyork.us/api/views/pvqr-7yc4/files/7875fa68-3a29-4825-9dfb-63ef30576f9e?download=true&filename=ParkingViolationCodes_January2020.xlsx\n",
    "\n",
    "#### Vehicle Body Type\n",
    "\n",
    "Common Vehicle body types are \n",
    "* suburban(SUBN): Vehicle that can be used to carry passengers and cargo\n",
    "* four-door sedan (4DSD)\n",
    "* Van Truck (VAN\n",
    "* Delivery Truck (DELV)\n",
    "* Pick-up Truck (PICK)\n",
    "* two-door sedan (2DSD) \n",
    "* Sedan (SEDN)\n",
    "\n",
    "https://nysdmv.custhelp.com/app/answers/detail/a_id/491/kw/body%20type%20subn\n",
    "\n",
    "#### Vehicle Make\n",
    "\n",
    "The DMV code for the make of a vehicle that appears on the registration. The DMV make code is the first 5 letters of the vehicle’s make name. If the vehicle make is more than one word, the make code is the first 2 letters of the first two words with a slash in between\n",
    "\n",
    "Common Vehicle Makes are \n",
    "* Honda (HONDA)\n",
    "* Toyota (TOYOT)\n",
    "* Ford (FORD)\n",
    "* Nissan (NISSA)\n",
    "* Chevrolet (CHEVR)\n",
    "* mercedes benz (ME/BE)\n",
    "\n",
    "https://data.ny.gov/Transportation/Vehicle-Makes-and-Body-Types-Most-Popular-in-New-Y/3pxy-wy2i\n",
    "https://data.ny.gov/api/assets/83055271-29A6-4ED4-9374-E159F30DB5AE\n",
    "\n",
    "#### Vehicle Colors\n",
    "\n",
    "Common colors are\n",
    "* Gray (GY)\n",
    "* White (WH)\n",
    "* Black (BK)\n",
    "* Blue (BL)\n",
    "* Red (RD)"
   ]
  },
  {
   "cell_type": "markdown",
   "id": "35dcc99b",
   "metadata": {},
   "source": [
    "## Config"
   ]
  },
  {
   "cell_type": "code",
   "execution_count": 1,
   "id": "d18301bb",
   "metadata": {},
   "outputs": [],
   "source": [
    "# Execution environment. Use False for local execution\n",
    "colab_env = False\n",
    "\n",
    "# Use Sample file for speedy execution\n",
    "sample_file = True\n",
    "sample_file_path = 'TODO:' if colab_env else \"../data/sample-100000.csv\"\n",
    "\n",
    "# Specify the raw CSV files path\n",
    "raw_CSV_path = 'TODO:' if colab_env else \"../data/Parking*.csv\"\n",
    "\n",
    "csv_files = sample_file_path if sample_file else raw_CSV_path\n",
    "\n",
    "# For faster execution. Some statements are skipped based on this check\n",
    "presenting = True\n",
    "\n",
    "# Specify the years for which we are reading the data from CSV\n",
    "years = [2017, 2018, 2019, 2020, 2021]\n",
    "\n",
    "# Schema Types. Only specify for the non-string type & NULL columns. Others  are considered as string\n",
    "schema_types = {\n",
    "  \"Summons Number\": {\"type\": \"long\", \"null\": False},\n",
    "  \"Issue Date\"    : {\"type\": \"date\" if sample_file else \"string\", \"null\": True}, \n",
    "  \"Violation Code\": {\"type\": \"integer\", \"null\": True},\n",
    "  \"Violation Precinct\": {\"type\": \"integer\", \"null\": True},\n",
    "  \"Issuer Precinct\": {\"type\": \"integer\", \"null\": True},\n",
    "}\n",
    "\n",
    "# Columns which are used in the analysis. Other columns will be removed\n",
    "used_columns = [\"Summons Number\", \"Plate ID\", \"Registration State\", \"Plate Type\", \"Issue Date\", \"Violation Code\", \"Vehicle Body Type\", \"Vehicle Make\", \"Violation Precinct\", \"Issuer Precinct\", \"Violation Time\", \"Vehicle Color\", \"Violation Description\"]\n",
    "\n",
    "# All the columns which are there in the datset (Need to be in CSV file order)\n",
    "schema_columns = [\"Summons Number\", \"Plate ID\", \"Registration State\", \"Plate Type\", \"Issue Date\", \"Violation Code\", \"Vehicle Body Type\", \"Vehicle Make\", \"Issuing Agency\", \"Street Code1\", \"Street Code2\", \"Street Code3\", \"Vehicle Expiration Date\", \"Violation Location\", \"Violation Precinct\", \"Issuer Precinct\", \"Issuer Code\", \"Issuer Command\", \"Issuer Squad\", \"Violation Time\", \"Time First Observed\", \"Violation County\", \"Violation In Front Of Or Opposite\", \"House Number\", \"Street Name\", \"Intersecting Street\", \"Date First Observed\", \"Law Section\", \"Sub Division\", \"Violation Legal Code\", \"Days Parking In Effect    \", \"From Hours In Effect\", \"To Hours In Effect\", \"Vehicle Color\", \"Unregistered Vehicle?\", \"Vehicle Year\", \"Meter Number\", \"Feet From Curb\", \"Violation Post Code\", \"Violation Description\", \"No Standing or Stopping Violation\", \"Hydrant Violation\", \"Double Parking Violation\"] if not sample_file else [i.lower().replace(\" \", '_') for i in used_columns]\n",
    "\n",
    "# Generates the sample CSV \n",
    "if not sample_file:\n",
    "  sample_CSV_generate = True # Generate the sample CSV\n",
    "  sample_CSV_records = 100000 # No. of records to write into the sample CSV file\n",
    "  sample_CSV_path = f\"../data/sample-{sample_CSV_records}.csv\" # path to save\n",
    "  sample_seed = sample_CSV_records # Seed value so that we get same random records"
   ]
  },
  {
   "cell_type": "markdown",
   "id": "28a24ada",
   "metadata": {},
   "source": [
    "## Setup"
   ]
  },
  {
   "cell_type": "markdown",
   "id": "264023b1",
   "metadata": {},
   "source": [
    "### Spark Setup"
   ]
  },
  {
   "cell_type": "code",
   "execution_count": 2,
   "id": "58018333",
   "metadata": {
    "tags": []
   },
   "outputs": [],
   "source": [
    "# For google Colab\n",
    "if colab_env:\n",
    "  !apt-get install openjdk-8-jdk-headless -qq > /dev/null\n",
    "  !wget -q https://mirrors.estointernet.in/apache/spark/spark-3.0.3/spark-3.0.3-bin-hadoop2.7.tgz -P /content/\n",
    "  !tar xf /content/drive/Shareddrives/DA231-2021-Aug-Public/spark-3.0.3-bin-hadoop2.7.tgz\n",
    "  !pip install -q findspark\n",
    "\n",
    "  import os\n",
    "  os.environ[\"JAVA_HOME\"] = \"/usr/lib/jvm/java-8-openjdk-amd64\"\n",
    "  os.environ[\"SPARK_HOME\"] = \"/content/spark-3.0.3-bin-hadoop2.7\""
   ]
  },
  {
   "cell_type": "markdown",
   "id": "752a8807",
   "metadata": {},
   "source": [
    "### Imports"
   ]
  },
  {
   "cell_type": "code",
   "execution_count": 3,
   "id": "fcf8db7b",
   "metadata": {},
   "outputs": [],
   "source": [
    "# Reload all changed modules every time before executing a new line\n",
    "%load_ext autoreload\n",
    "%autoreload 2"
   ]
  },
  {
   "cell_type": "code",
   "execution_count": 4,
   "id": "2fcecc12",
   "metadata": {},
   "outputs": [],
   "source": [
    "# PySpark related\n",
    "import findspark\n",
    "findspark.init()\n",
    "findspark.find()\n",
    "\n",
    "from pyspark.sql import SparkSession\n",
    "import pyspark.sql.functions as F\n",
    "from pyspark.sql.functions import col # Frequently using this. hence imported separately\n",
    "\n",
    "# user defined modules import\n",
    "import data_preprocess as dp\n",
    "import basic_analysis as ba\n",
    "import precinct_based_analysis as pba\n",
    "import time_based_analysis as tba\n",
    "import season_based_analysis as sba\n",
    "import revenue_based_analysis as rba\n",
    "import mis_analysis as ma"
   ]
  },
  {
   "cell_type": "markdown",
   "id": "23a5463f",
   "metadata": {},
   "source": [
    "### Spark Session"
   ]
  },
  {
   "cell_type": "code",
   "execution_count": 5,
   "id": "4747cd56",
   "metadata": {},
   "outputs": [
    {
     "name": "stderr",
     "output_type": "stream",
     "text": [
      "21/12/09 16:50:26 WARN Utils: Your hostname, babu-pc resolves to a loopback address: 127.0.1.1; using 172.23.85.252 instead (on interface eth0)\n",
      "21/12/09 16:50:26 WARN Utils: Set SPARK_LOCAL_IP if you need to bind to another address\n",
      "WARNING: An illegal reflective access operation has occurred\n",
      "WARNING: Illegal reflective access by org.apache.spark.unsafe.Platform (file:/opt/spark/jars/spark-unsafe_2.13-3.2.0.jar) to constructor java.nio.DirectByteBuffer(long,int)\n",
      "WARNING: Please consider reporting this to the maintainers of org.apache.spark.unsafe.Platform\n",
      "WARNING: Use --illegal-access=warn to enable warnings of further illegal reflective access operations\n",
      "WARNING: All illegal access operations will be denied in a future release\n",
      "Using Spark's default log4j profile: org/apache/spark/log4j-defaults.properties\n",
      "Setting default log level to \"WARN\".\n",
      "To adjust logging level use sc.setLogLevel(newLevel). For SparkR, use setLogLevel(newLevel).\n",
      "21/12/09 16:50:28 WARN NativeCodeLoader: Unable to load native-hadoop library for your platform... using builtin-java classes where applicable\n"
     ]
    },
    {
     "data": {
      "text/html": [
       "\n",
       "            <div>\n",
       "                <p><b>SparkSession - in-memory</b></p>\n",
       "                \n",
       "        <div>\n",
       "            <p><b>SparkContext</b></p>\n",
       "\n",
       "            <p><a href=\"http://172.23.85.252:4040\">Spark UI</a></p>\n",
       "\n",
       "            <dl>\n",
       "              <dt>Version</dt>\n",
       "                <dd><code>v3.2.0</code></dd>\n",
       "              <dt>Master</dt>\n",
       "                <dd><code>local[*]</code></dd>\n",
       "              <dt>AppName</dt>\n",
       "                <dd><code>NY Parking Violation Analysis</code></dd>\n",
       "            </dl>\n",
       "        </div>\n",
       "        \n",
       "            </div>\n",
       "        "
      ],
      "text/plain": [
       "<pyspark.sql.session.SparkSession at 0x7f0a90149940>"
      ]
     },
     "execution_count": 5,
     "metadata": {},
     "output_type": "execute_result"
    }
   ],
   "source": [
    "spark = (\n",
    "          SparkSession\n",
    "            .builder\n",
    "            .master(\"local[*]\") # Using all available cores\n",
    "            .appName(\"NYC Parking Violation Analysis\")\n",
    "            .getOrCreate()\n",
    "        )\n",
    "spark"
   ]
  },
  {
   "cell_type": "markdown",
   "id": "7be5678a",
   "metadata": {},
   "source": [
    "## Data Pre-processing"
   ]
  },
  {
   "cell_type": "markdown",
   "id": "65fa7a33",
   "metadata": {},
   "source": [
    "### Reading CSV files into DataFrame"
   ]
  },
  {
   "cell_type": "code",
   "execution_count": 6,
   "id": "327afc8c",
   "metadata": {},
   "outputs": [],
   "source": [
    "# Better performance than inferSchema=True\n",
    "NY_schema = dp.get_schema(schema_columns, schema_types)\n",
    "\n",
    "org_df = spark.read.option(\"header\", True).schema(NY_schema).csv(csv_files)"
   ]
  },
  {
   "cell_type": "code",
   "execution_count": 7,
   "id": "bf3ec5f5",
   "metadata": {},
   "outputs": [],
   "source": [
    "if not sample_file:\n",
    "  print(f'Shape : {(org_df.count(), len(org_df.columns))}')\n",
    "  org_df.printSchema()\n",
    "  org_df.show(2)"
   ]
  },
  {
   "cell_type": "code",
   "execution_count": 8,
   "id": "5fa5555a",
   "metadata": {},
   "outputs": [],
   "source": [
    "if not sample_file:\n",
    "  presenting and org_df.summary().toPandas().transpose() # More execution time"
   ]
  },
  {
   "cell_type": "markdown",
   "id": "4ea3a158",
   "metadata": {},
   "source": [
    "### Pre-processing"
   ]
  },
  {
   "cell_type": "code",
   "execution_count": 9,
   "id": "b44c3d33",
   "metadata": {},
   "outputs": [],
   "source": [
    "# No pre-processing while using Sample file\n",
    "df = org_df\n",
    "if not sample_file:\n",
    "  df = dp.remove_unused_columns(df, used_columns)\n",
    "  df = dp.drop_duplicates(df)\n",
    "  df = dp.santize_column_names(df)\n",
    "  dp.assert_uniqueness(df, column_name=\"summons_number\")\n",
    "  df = dp.convert_to_date(df, column_name=\"issue_date\", format=\"MM/dd/yyyy\")\n",
    "  df = dp.remove_outside_years_data(df, years, \"issue_date\")\n",
    "  # df = dp.remove_invalid_violation_code_data(df) # TODO: Maybe we can handle in individual file"
   ]
  },
  {
   "cell_type": "markdown",
   "id": "431b5f55",
   "metadata": {},
   "source": [
    "## Sample file generation"
   ]
  },
  {
   "cell_type": "code",
   "execution_count": 10,
   "id": "29c39b41",
   "metadata": {},
   "outputs": [],
   "source": [
    "from pathlib import Path\n",
    "from shutil import rmtree\n",
    "\n",
    "def write_CSV(df, CSV_path):\n",
    "  \n",
    "  # Creates CSV in a folder. But memory efficient\n",
    "  df.coalesce(1).write.mode(\"overwrite\").csv(CSV_path, header=True) \n",
    "\n",
    "  # OOM\n",
    "  # df.toPandas().to_csv(CSV_path, index=False)\n",
    "\n",
    "  # Moving file to data folder\n",
    "  f_path = list(Path(CSV_path).glob('*.csv'))[0]\n",
    "  Path(f_path).rename(CSV_path+'.tmp')\n",
    "  rmtree(CSV_path)\n",
    "  Path(CSV_path+'.tmp').rename(CSV_path)\n"
   ]
  },
  {
   "cell_type": "code",
   "execution_count": 11,
   "id": "f174c9d6",
   "metadata": {},
   "outputs": [],
   "source": [
    "if (not sample_file and sample_CSV_generate):\n",
    "  total_records = df.count()\n",
    "  fraction = (sample_CSV_records+10000)/total_records # Exact records are not coming. Hence increasing the fraction using 10k\n",
    "  sample_df = df.sample(fraction=fraction, seed=sample_seed).limit(sample_CSV_records) # Getting exact number of records\n",
    "  print(f\"Sample records: {sample_df.count()}\")\n",
    "  write_CSV(sample_df, sample_CSV_path)\n",
    "  df = sample_df"
   ]
  },
  {
   "cell_type": "markdown",
   "id": "320e4c5c",
   "metadata": {},
   "source": [
    "## Final DF / Table for Analysis"
   ]
  },
  {
   "cell_type": "code",
   "execution_count": 19,
   "id": "3fb36275",
   "metadata": {},
   "outputs": [
    {
     "name": "stdout",
     "output_type": "stream",
     "text": [
      "Shape : (100000, 13)\n",
      "root\n",
      " |-- summons_number: string (nullable = true)\n",
      " |-- plate_id: string (nullable = true)\n",
      " |-- registration_state: string (nullable = true)\n",
      " |-- plate_type: string (nullable = true)\n",
      " |-- issue_date: string (nullable = true)\n",
      " |-- violation_code: string (nullable = true)\n",
      " |-- vehicle_body_type: string (nullable = true)\n",
      " |-- vehicle_make: string (nullable = true)\n",
      " |-- violation_precinct: string (nullable = true)\n",
      " |-- issuer_precinct: string (nullable = true)\n",
      " |-- violation_time: string (nullable = true)\n",
      " |-- vehicle_color: string (nullable = true)\n",
      " |-- violation_description: string (nullable = true)\n",
      "\n",
      "+--------------+--------+------------------+----------+----------+--------------+-----------------+------------+------------------+---------------+--------------+-------------+---------------------+\n",
      "|summons_number|plate_id|registration_state|plate_type|issue_date|violation_code|vehicle_body_type|vehicle_make|violation_precinct|issuer_precinct|violation_time|vehicle_color|violation_description|\n",
      "+--------------+--------+------------------+----------+----------+--------------+-----------------+------------+------------------+---------------+--------------+-------------+---------------------+\n",
      "|    4699789717| GNC2302|                NY|       PAS|2020-07-21|            36|             SUBN|       TOYOT|                 0|              0|         0448P|           RD| PHTO SCHOOL ZN SP...|\n",
      "|    4697860755| GKD1963|                NY|       PAS|2020-07-06|            36|             4DSD|       SUBAR|                 0|              0|         0555P|           BL| PHTO SCHOOL ZN SP...|\n",
      "+--------------+--------+------------------+----------+----------+--------------+-----------------+------------+------------------+---------------+--------------+-------------+---------------------+\n",
      "only showing top 2 rows\n",
      "\n"
     ]
    },
    {
     "name": "stderr",
     "output_type": "stream",
     "text": [
      "21/12/09 16:52:21 WARN CacheManager: Asked to cache already cached data.\n"
     ]
    }
   ],
   "source": [
    "df.cache() # Cache the data\n",
    "total_records = df.count() # Materialize the cache\n",
    "print(f'Shape : {(total_records, len(df.columns))}')\n",
    "df.printSchema()\n",
    "df.show(2)"
   ]
  },
  {
   "cell_type": "code",
   "execution_count": 13,
   "id": "58454c2c",
   "metadata": {},
   "outputs": [
    {
     "name": "stderr",
     "output_type": "stream",
     "text": []
    },
    {
     "data": {
      "text/html": [
       "<div>\n",
       "<style scoped>\n",
       "    .dataframe tbody tr th:only-of-type {\n",
       "        vertical-align: middle;\n",
       "    }\n",
       "\n",
       "    .dataframe tbody tr th {\n",
       "        vertical-align: top;\n",
       "    }\n",
       "\n",
       "    .dataframe thead th {\n",
       "        text-align: right;\n",
       "    }\n",
       "</style>\n",
       "<table border=\"1\" class=\"dataframe\">\n",
       "  <thead>\n",
       "    <tr style=\"text-align: right;\">\n",
       "      <th></th>\n",
       "      <th>0</th>\n",
       "      <th>1</th>\n",
       "      <th>2</th>\n",
       "      <th>3</th>\n",
       "      <th>4</th>\n",
       "    </tr>\n",
       "  </thead>\n",
       "  <tbody>\n",
       "    <tr>\n",
       "      <th>summary</th>\n",
       "      <td>count</td>\n",
       "      <td>mean</td>\n",
       "      <td>stddev</td>\n",
       "      <td>min</td>\n",
       "      <td>max</td>\n",
       "    </tr>\n",
       "    <tr>\n",
       "      <th>summons_number</th>\n",
       "      <td>100000</td>\n",
       "      <td>7.10178748260407E9</td>\n",
       "      <td>2.3246676068622017E9</td>\n",
       "      <td>1253023300</td>\n",
       "      <td>8999150781</td>\n",
       "    </tr>\n",
       "    <tr>\n",
       "      <th>plate_id</th>\n",
       "      <td>100000</td>\n",
       "      <td>Infinity</td>\n",
       "      <td>NaN</td>\n",
       "      <td>00075W4</td>\n",
       "      <td>ZZZ2P</td>\n",
       "    </tr>\n",
       "    <tr>\n",
       "      <th>registration_state</th>\n",
       "      <td>100000</td>\n",
       "      <td>99.0</td>\n",
       "      <td>0.0</td>\n",
       "      <td>99</td>\n",
       "      <td>WY</td>\n",
       "    </tr>\n",
       "    <tr>\n",
       "      <th>plate_type</th>\n",
       "      <td>100000</td>\n",
       "      <td>999.0</td>\n",
       "      <td>0.0</td>\n",
       "      <td>999</td>\n",
       "      <td>VAS</td>\n",
       "    </tr>\n",
       "    <tr>\n",
       "      <th>issue_date</th>\n",
       "      <td>100000</td>\n",
       "      <td>None</td>\n",
       "      <td>None</td>\n",
       "      <td>2017-03-03</td>\n",
       "      <td>2022-09-04</td>\n",
       "    </tr>\n",
       "    <tr>\n",
       "      <th>violation_code</th>\n",
       "      <td>100000</td>\n",
       "      <td>34.153</td>\n",
       "      <td>18.43247537802471</td>\n",
       "      <td>0</td>\n",
       "      <td>99</td>\n",
       "    </tr>\n",
       "    <tr>\n",
       "      <th>vehicle_body_type</th>\n",
       "      <td>99661</td>\n",
       "      <td>Infinity</td>\n",
       "      <td>NaN</td>\n",
       "      <td>12PU</td>\n",
       "      <td>YY</td>\n",
       "    </tr>\n",
       "    <tr>\n",
       "      <th>vehicle_make</th>\n",
       "      <td>99636</td>\n",
       "      <td>1.0</td>\n",
       "      <td>None</td>\n",
       "      <td>1</td>\n",
       "      <td>ZNEN</td>\n",
       "    </tr>\n",
       "    <tr>\n",
       "      <th>violation_precinct</th>\n",
       "      <td>100000</td>\n",
       "      <td>39.17843</td>\n",
       "      <td>41.73179588950109</td>\n",
       "      <td>0</td>\n",
       "      <td>99</td>\n",
       "    </tr>\n",
       "    <tr>\n",
       "      <th>issuer_precinct</th>\n",
       "      <td>100000</td>\n",
       "      <td>42.58331</td>\n",
       "      <td>66.46092017105246</td>\n",
       "      <td>0</td>\n",
       "      <td>988</td>\n",
       "    </tr>\n",
       "    <tr>\n",
       "      <th>violation_time</th>\n",
       "      <td>99998</td>\n",
       "      <td>1190.3333333333333</td>\n",
       "      <td>64.80997865555376</td>\n",
       "      <td>0 59A</td>\n",
       "      <td>1259P</td>\n",
       "    </tr>\n",
       "    <tr>\n",
       "      <th>vehicle_color</th>\n",
       "      <td>96065</td>\n",
       "      <td>None</td>\n",
       "      <td>None</td>\n",
       "      <td>+</td>\n",
       "      <td>YW.</td>\n",
       "    </tr>\n",
       "    <tr>\n",
       "      <th>violation_description</th>\n",
       "      <td>49531</td>\n",
       "      <td>None</td>\n",
       "      <td>None</td>\n",
       "      <td>04A-Downtown Bus Area, Non-Bus</td>\n",
       "      <td>Wrong Way</td>\n",
       "    </tr>\n",
       "  </tbody>\n",
       "</table>\n",
       "</div>"
      ],
      "text/plain": [
       "                            0                   1                     2  \\\n",
       "summary                 count                mean                stddev   \n",
       "summons_number         100000  7.10178748260407E9  2.3246676068622017E9   \n",
       "plate_id               100000            Infinity                   NaN   \n",
       "registration_state     100000                99.0                   0.0   \n",
       "plate_type             100000               999.0                   0.0   \n",
       "issue_date             100000                None                  None   \n",
       "violation_code         100000              34.153     18.43247537802471   \n",
       "vehicle_body_type       99661            Infinity                   NaN   \n",
       "vehicle_make            99636                 1.0                  None   \n",
       "violation_precinct     100000            39.17843     41.73179588950109   \n",
       "issuer_precinct        100000            42.58331     66.46092017105246   \n",
       "violation_time          99998  1190.3333333333333     64.80997865555376   \n",
       "vehicle_color           96065                None                  None   \n",
       "violation_description   49531                None                  None   \n",
       "\n",
       "                                                    3           4  \n",
       "summary                                           min         max  \n",
       "summons_number                             1253023300  8999150781  \n",
       "plate_id                                      00075W4       ZZZ2P  \n",
       "registration_state                                 99          WY  \n",
       "plate_type                                        999         VAS  \n",
       "issue_date                                 2017-03-03  2022-09-04  \n",
       "violation_code                                      0          99  \n",
       "vehicle_body_type                                12PU          YY  \n",
       "vehicle_make                                        1        ZNEN  \n",
       "violation_precinct                                  0          99  \n",
       "issuer_precinct                                     0         988  \n",
       "violation_time                                  0 59A       1259P  \n",
       "vehicle_color                                       +         YW.  \n",
       "violation_description  04A-Downtown Bus Area, Non-Bus   Wrong Way  "
      ]
     },
     "execution_count": 13,
     "metadata": {},
     "output_type": "execute_result"
    }
   ],
   "source": [
    "presenting and df.describe().toPandas().transpose() # More execution time"
   ]
  },
  {
   "cell_type": "code",
   "execution_count": 14,
   "id": "abcf80ee",
   "metadata": {},
   "outputs": [],
   "source": [
    "df.createOrReplaceTempView(\"NYCPV\")"
   ]
  },
  {
   "cell_type": "markdown",
   "id": "d59c5268",
   "metadata": {},
   "source": [
    "## Analysis"
   ]
  },
  {
   "cell_type": "markdown",
   "id": "2fe351ef",
   "metadata": {},
   "source": [
    "### 01 Basic Analysis"
   ]
  },
  {
   "cell_type": "markdown",
   "id": "97891422",
   "metadata": {},
   "source": [
    "#### **How often does each violation code occur? (frequency of violation codes find the top 5) ?** "
   ]
  },
  {
   "cell_type": "code",
   "execution_count": null,
   "id": "303f258f",
   "metadata": {},
   "outputs": [],
   "source": []
  },
  {
   "cell_type": "markdown",
   "id": "de816e61",
   "metadata": {},
   "source": [
    "#### **How often does each vehicle body type get a parking ticket? How about the vehicle make? (find the top 5 for both) ?**"
   ]
  },
  {
   "cell_type": "code",
   "execution_count": null,
   "id": "897da883",
   "metadata": {},
   "outputs": [],
   "source": []
  },
  {
   "cell_type": "markdown",
   "id": "3e41db30",
   "metadata": {},
   "source": [
    "### 02 Precinct based Analysis\n",
    "\n",
    "A **precinct** is a police station that has a certain zone of the city under its command"
   ]
  },
  {
   "cell_type": "code",
   "execution_count": 15,
   "id": "d64ec682-ddee-4cd7-8cb8-cb28b2729e07",
   "metadata": {},
   "outputs": [
    {
     "name": "stdout",
     "output_type": "stream",
     "text": [
      "Top 5 Violation precicts\n",
      "+------------------+-------------------------+\n",
      "|violation_precinct|count(violation_precinct)|\n",
      "+------------------+-------------------------+\n",
      "|                 0|                    30563|\n",
      "|                19|                     3369|\n",
      "|                14|                     2740|\n",
      "|                18|                     2558|\n",
      "|               114|                     2388|\n",
      "+------------------+-------------------------+\n",
      "only showing top 5 rows\n",
      "\n",
      "[Row(violation_precinct='0', count(violation_precinct)=30563), Row(violation_precinct='19', count(violation_precinct)=3369), Row(violation_precinct='14', count(violation_precinct)=2740), Row(violation_precinct='18', count(violation_precinct)=2558), Row(violation_precinct='114', count(violation_precinct)=2388)]\n",
      "Top 5 Issuer precicts\n",
      "+---------------+----------------------+\n",
      "|issuer_precinct|count(issuer_precinct)|\n",
      "+---------------+----------------------+\n",
      "|              0|                 33102|\n",
      "|             19|                  3266|\n",
      "|             14|                  2614|\n",
      "|             18|                  2454|\n",
      "|            114|                  2328|\n",
      "+---------------+----------------------+\n",
      "only showing top 5 rows\n",
      "\n",
      "[Row(issuer_precinct='0', count(issuer_precinct)=33102), Row(issuer_precinct='19', count(issuer_precinct)=3266), Row(issuer_precinct='14', count(issuer_precinct)=2614), Row(issuer_precinct='18', count(issuer_precinct)=2454), Row(issuer_precinct='114', count(issuer_precinct)=2328)]\n",
      "Violation frequencies from top 3 issuer precicts\n",
      "+--------------+---------------------+\n",
      "|violation_code|count(violation_code)|\n",
      "+--------------+---------------------+\n",
      "|             7|                 3438|\n",
      "|            51|                    7|\n",
      "|            54|                   21|\n",
      "|            11|                   22|\n",
      "|            69|                  578|\n",
      "|            42|                  105|\n",
      "|            87|                    8|\n",
      "|            73|                    3|\n",
      "|            64|                   27|\n",
      "|            30|                    2|\n",
      "|             8|                    4|\n",
      "|            85|                   32|\n",
      "|            16|                  140|\n",
      "|            35|                    3|\n",
      "|            71|                  139|\n",
      "|            98|                    8|\n",
      "|            47|                  190|\n",
      "|             5|                 2470|\n",
      "|            31|                  480|\n",
      "|            18|                   88|\n",
      "+--------------+---------------------+\n",
      "only showing top 20 rows\n",
      "\n",
      "[Row(violation_code='7', count(violation_code)=3438), Row(violation_code='51', count(violation_code)=7), Row(violation_code='54', count(violation_code)=21), Row(violation_code='11', count(violation_code)=22), Row(violation_code='69', count(violation_code)=578), Row(violation_code='42', count(violation_code)=105), Row(violation_code='87', count(violation_code)=8), Row(violation_code='73', count(violation_code)=3), Row(violation_code='64', count(violation_code)=27), Row(violation_code='30', count(violation_code)=2), Row(violation_code='8', count(violation_code)=4), Row(violation_code='85', count(violation_code)=32), Row(violation_code='16', count(violation_code)=140), Row(violation_code='35', count(violation_code)=3), Row(violation_code='71', count(violation_code)=139), Row(violation_code='98', count(violation_code)=8), Row(violation_code='47', count(violation_code)=190), Row(violation_code='5', count(violation_code)=2470), Row(violation_code='31', count(violation_code)=480), Row(violation_code='18', count(violation_code)=88), Row(violation_code='70', count(violation_code)=91), Row(violation_code='61', count(violation_code)=6), Row(violation_code='75', count(violation_code)=1), Row(violation_code='17', count(violation_code)=94), Row(violation_code='46', count(violation_code)=522), Row(violation_code='78', count(violation_code)=50), Row(violation_code='89', count(violation_code)=15), Row(violation_code='60', count(violation_code)=1), Row(violation_code='68', count(violation_code)=2), Row(violation_code='19', count(violation_code)=180), Row(violation_code='41', count(violation_code)=9), Row(violation_code='38', count(violation_code)=537), Row(violation_code='40', count(violation_code)=247), Row(violation_code='82', count(violation_code)=72), Row(violation_code='53', count(violation_code)=24), Row(violation_code='33', count(violation_code)=5), Row(violation_code='48', count(violation_code)=51), Row(violation_code='67', count(violation_code)=3), Row(violation_code='84', count(violation_code)=122), Row(violation_code='79', count(violation_code)=2), Row(violation_code='9', count(violation_code)=60), Row(violation_code='24', count(violation_code)=5), Row(violation_code='1', count(violation_code)=1), Row(violation_code='20', count(violation_code)=461), Row(violation_code='36', count(violation_code)=24105), Row(violation_code='10', count(violation_code)=120), Row(violation_code='37', count(violation_code)=271), Row(violation_code='39', count(violation_code)=1), Row(violation_code='62', count(violation_code)=6), Row(violation_code='12', count(violation_code)=208), Row(violation_code='83', count(violation_code)=7), Row(violation_code='13', count(violation_code)=30), Row(violation_code='14', count(violation_code)=912), Row(violation_code='21', count(violation_code)=2745), Row(violation_code='66', count(violation_code)=97), Row(violation_code='94', count(violation_code)=2), Row(violation_code='74', count(violation_code)=91), Row(violation_code='72', count(violation_code)=3), Row(violation_code='76', count(violation_code)=4), Row(violation_code='2', count(violation_code)=1), Row(violation_code='80', count(violation_code)=14), Row(violation_code='50', count(violation_code)=22), Row(violation_code='22', count(violation_code)=2), Row(violation_code='0', count(violation_code)=3), Row(violation_code='26', count(violation_code)=4), Row(violation_code='77', count(violation_code)=3), Row(violation_code='6', count(violation_code)=3), Row(violation_code='23', count(violation_code)=1), Row(violation_code='45', count(violation_code)=1)]\n"
     ]
    }
   ],
   "source": [
    "#TODO: Move to respective cells\n",
    "print('Top 5 Violation precicts')\n",
    "print(pba.violating_precicts(df, True))\n",
    "print('Top 5 Issuer precicts')\n",
    "print(pba.issuing_precincts(df, True))\n",
    "print('Violation frequencies from top 3 issuer precicts')\n",
    "print(pba.violation_code_frequency_top3_precincts(df, True))"
   ]
  },
  {
   "cell_type": "markdown",
   "id": "f4d214ec",
   "metadata": {},
   "source": [
    "#### **Find the (5 highest) frequencies of violating Precincts (this is the precinct of the zone where the violation occurred)**"
   ]
  },
  {
   "cell_type": "code",
   "execution_count": null,
   "id": "10cb0d15",
   "metadata": {},
   "outputs": [],
   "source": []
  },
  {
   "cell_type": "markdown",
   "id": "cc2f3a80",
   "metadata": {},
   "source": [
    "#### **Find the (5 highest) frequencies of Issuing Precincts (this is the precinct that issued the ticket)**"
   ]
  },
  {
   "cell_type": "code",
   "execution_count": null,
   "id": "32af2d97",
   "metadata": {},
   "outputs": [],
   "source": []
  },
  {
   "cell_type": "markdown",
   "id": "d4c206f2",
   "metadata": {},
   "source": [
    "#### **Find the violation code frequency across 3 precincts which have issued the most number of tickets (Top 5)**"
   ]
  },
  {
   "cell_type": "code",
   "execution_count": null,
   "id": "69e24954",
   "metadata": {},
   "outputs": [],
   "source": []
  },
  {
   "cell_type": "markdown",
   "id": "5f8ef137",
   "metadata": {},
   "source": [
    "### 03 Time based Analysis"
   ]
  },
  {
   "cell_type": "markdown",
   "id": "c5c12fa4",
   "metadata": {},
   "source": [
    "#### **Divide 24 hours into 6 equal discrete bins of time. For each of these groups, find the 3 most commonly occurring violations**"
   ]
  },
  {
   "cell_type": "code",
   "execution_count": null,
   "id": "08481d57",
   "metadata": {},
   "outputs": [],
   "source": []
  },
  {
   "cell_type": "markdown",
   "id": "612033a7",
   "metadata": {},
   "source": [
    "#### **For the 5 most commonly occurring violation codes, find the most common times of day (in terms of the bins from the previous part)**"
   ]
  },
  {
   "cell_type": "code",
   "execution_count": null,
   "id": "550cab1b",
   "metadata": {},
   "outputs": [],
   "source": []
  },
  {
   "cell_type": "markdown",
   "id": "a1445c81",
   "metadata": {},
   "source": [
    "### 04 Year / Season based Analysis"
   ]
  },
  {
   "cell_type": "markdown",
   "id": "30367d8d",
   "metadata": {},
   "source": [
    "#### **What is the average reduction in violations for the year 2020 compared to 2019 (due to COVID), and year 2019 compared to 2018**"
   ]
  },
  {
   "cell_type": "code",
   "execution_count": null,
   "id": "de1fc82b",
   "metadata": {},
   "outputs": [],
   "source": []
  },
  {
   "cell_type": "markdown",
   "id": "04b9ddb9",
   "metadata": {},
   "source": [
    "#### **Divide the year into 3 number of seasons, and find frequencies of tickets for each season**"
   ]
  },
  {
   "cell_type": "code",
   "execution_count": null,
   "id": "3f25bdaf",
   "metadata": {},
   "outputs": [],
   "source": []
  },
  {
   "cell_type": "markdown",
   "id": "c97265c7",
   "metadata": {},
   "source": [
    "#### **Find the 3 most common violations for each of these seasons**"
   ]
  },
  {
   "cell_type": "code",
   "execution_count": null,
   "id": "7c7784aa",
   "metadata": {},
   "outputs": [],
   "source": []
  },
  {
   "cell_type": "markdown",
   "id": "1030a1d6",
   "metadata": {},
   "source": [
    "### 05 Revenue based Analysis\n",
    "\n",
    "The fines collected from all the parking violation constitute a revenue source for the NYC police department\n",
    "Fine amounts for each violation code are listed here https://www1.nyc.gov/site/finance/vehicles/services-violation-codes.page"
   ]
  },
  {
   "cell_type": "markdown",
   "id": "6d0f593a",
   "metadata": {},
   "source": [
    "#### **Find the total amount collected year wise**"
   ]
  },
  {
   "cell_type": "code",
   "execution_count": null,
   "id": "6893040f",
   "metadata": {},
   "outputs": [],
   "source": []
  },
  {
   "cell_type": "markdown",
   "id": "119d22f6",
   "metadata": {},
   "source": [
    "#### **Find the top 5 violation codes which collected highest amount**"
   ]
  },
  {
   "cell_type": "code",
   "execution_count": null,
   "id": "b8fb7e07",
   "metadata": {},
   "outputs": [],
   "source": []
  },
  {
   "cell_type": "markdown",
   "id": "9139cb98",
   "metadata": {},
   "source": [
    "### 06 Miscellaneous Analysis"
   ]
  },
  {
   "cell_type": "code",
   "execution_count": 16,
   "id": "735fd35d",
   "metadata": {},
   "outputs": [],
   "source": [
    "# spark.stop() #TODO: Use this at the end of the script"
   ]
  }
 ],
 "metadata": {
  "interpreter": {
   "hash": "77b0c884bf9a8c123a3b4d947573202ae62508f6aa4f4128a2a251680436629f"
  },
  "kernelspec": {
   "display_name": "Python 3 (ipykernel)",
   "language": "python",
   "name": "python3"
  },
  "language_info": {
   "codemirror_mode": {
    "name": "ipython",
    "version": 3
   },
   "file_extension": ".py",
   "mimetype": "text/x-python",
   "name": "python",
   "nbconvert_exporter": "python",
   "pygments_lexer": "ipython3",
   "version": "3.9.7"
  }
 },
 "nbformat": 4,
 "nbformat_minor": 5
}
