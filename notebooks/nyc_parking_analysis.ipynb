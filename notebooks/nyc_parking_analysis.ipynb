{
 "cells": [
  {
   "cell_type": "markdown",
   "id": "00142a39-ae3c-4d40-ae71-ae3c5a4f486c",
   "metadata": {},
   "source": [
    "# Spark Setup"
   ]
  },
  {
   "cell_type": "code",
   "execution_count": null,
   "id": "464aefb5-1d9d-4a71-b2d4-9fa0378a2510",
   "metadata": {
    "tags": []
   },
   "outputs": [],
   "source": [
    "!apt-get install openjdk-8-jdk-headless -qq > /dev/null\n",
    "!wget -q https://mirrors.estointernet.in/apache/spark/spark-3.0.3/spark-3.0.3-bin-hadoop2.7.tgz -P /content/\n",
    "!tar xf /content/drive/Shareddrives/DA231-2021-Aug-Public/spark-3.0.3-bin-hadoop2.7.tgz\n",
    "!pip install -q findspark\n",
    "import os\n",
    "os.environ[\"JAVA_HOME\"] = \"/usr/lib/jvm/java-8-openjdk-amd64\"\n",
    "os.environ[\"SPARK_HOME\"] = \"/content/spark-3.0.3-bin-hadoop2.7\""
   ]
  },
  {
   "cell_type": "markdown",
   "id": "de78f0e0-dee7-49c2-b021-ca6c8d7d0cc3",
   "metadata": {},
   "source": [
    "# PySpark Setup"
   ]
  },
  {
   "cell_type": "code",
   "execution_count": null,
   "id": "cd208bc4-fd69-4293-9390-8bba141ac260",
   "metadata": {},
   "outputs": [],
   "source": [
    "!pip install -q findspark"
   ]
  },
  {
   "cell_type": "code",
   "execution_count": null,
   "id": "66822baa-c7b4-4b49-a9e1-4e2c406e0822",
   "metadata": {},
   "outputs": [],
   "source": [
    "#Provides findspark.init() to make pyspark importable as a regular library.\n",
    "# Resource : https://pypi.org/project/findspark/\n",
    "import findspark \n",
    "findspark.init()"
   ]
  },
  {
   "cell_type": "markdown",
   "id": "995806bb-1a13-432d-b0ba-c665f79a40f7",
   "metadata": {},
   "source": [
    "# Spark Session"
   ]
  },
  {
   "cell_type": "code",
   "execution_count": null,
   "id": "2e3330cd-c602-4a7c-985b-a2c98b898b34",
   "metadata": {},
   "outputs": [],
   "source": [
    "from pyspark.sql import SparkSession\n",
    "\n",
    "spark = SparkSession \\\n",
    "    .builder \\\n",
    "    .appName(\"Python Spark SQL basic example\") \\\n",
    "    .config(\"spark.some.config.option\", \"some-value\") \\\n",
    "    .getOrCreate()"
   ]
  },
  {
   "cell_type": "code",
   "execution_count": null,
   "id": "59fca738-c337-4ca4-ab56-c68e2039ce21",
   "metadata": {},
   "outputs": [],
   "source": [
    "from preprocess_csv import preprocess_csv\n",
    "from basic_analysis import *"
   ]
  }
 ],
 "metadata": {
  "kernelspec": {
   "display_name": "Python 3 (ipykernel)",
   "language": "python",
   "name": "python3"
  },
  "language_info": {
   "codemirror_mode": {
    "name": "ipython",
    "version": 3
   },
   "file_extension": ".py",
   "mimetype": "text/x-python",
   "name": "python",
   "nbconvert_exporter": "python",
   "pygments_lexer": "ipython3",
   "version": "3.8.10"
  }
 },
 "nbformat": 4,
 "nbformat_minor": 5
}
