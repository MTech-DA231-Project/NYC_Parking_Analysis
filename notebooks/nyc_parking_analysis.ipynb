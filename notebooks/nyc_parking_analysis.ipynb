{
 "cells": [
  {
   "cell_type": "markdown",
   "id": "2bd4e305",
   "metadata": {},
   "source": [
    "# NY Parking Violation Data Analysis\n",
    "\n",
    "**Mini Project**\n",
    "\n",
    "IISC | M.Tech (Online) | DSBA\n",
    "DA 231-O Data Engineering at Scale\n",
    "\n",
    "Mentor: **Yogesh Simmhan** (simmhan@iisc.ac.in)"
   ]
  },
  {
   "cell_type": "markdown",
   "id": "9518cdbe",
   "metadata": {},
   "source": [
    "## Team\n",
    "\n",
    "1. Satyam Kumar | satyamk@iisc.ac.in | 9092696415\n",
    "2. Siva Kranthi Kumar Mallipeddi | sivam@iisc.ac.in | 9986778909\n",
    "3. Sreedhar Reddy Vundela | sreedharv@iisc.ac.in | 9886702749\n",
    "4. Sudhakar Kulkarni Mukayya | sudhakark@iisc.ac.in | 9035076656"
   ]
  },
  {
   "cell_type": "markdown",
   "id": "0b8857c2",
   "metadata": {},
   "source": [
    "## Problem\n",
    "\n",
    "* Exploratory data analysis of **NYC Parking violation** data for **2017** – **2021** years (5 years)\n",
    "* Infer from the data analysis findings\n",
    "\n",
    "> **Dataset** : https://data.cityofnewyork.us/City-Government/Parking-Violations-Issued-Fiscal-Year-2022/pvqr-7yc4"
   ]
  },
  {
   "cell_type": "markdown",
   "id": "9e2ca4b1",
   "metadata": {},
   "source": [
    "## Environment\n",
    "\n",
    "* Python 3\n",
    "* Spark 3.0 (colab) / 3.1 (local)\n",
    "* Spark Data Frames & Spark SQL\n",
    "* Local & Google Colab"
   ]
  },
  {
   "cell_type": "markdown",
   "id": "cb77d9c2",
   "metadata": {},
   "source": [
    "## Dataset Details"
   ]
  },
  {
   "cell_type": "markdown",
   "id": "d05c754f",
   "metadata": {},
   "source": [
    "Dataset contains New York city Police Department issued parking violations details"
   ]
  },
  {
   "cell_type": "markdown",
   "id": "1c5b6c9d",
   "metadata": {},
   "source": [
    "### Raw Dataset details\n",
    "- Fiscal year data (July 1 - June 30) is available. That means one file contains data for 2 years\n",
    "- All years data has same 43 columns\n",
    "- Total Number of records: **xxxx** # TODO"
   ]
  },
  {
   "cell_type": "markdown",
   "id": "bf1f2a38",
   "metadata": {},
   "source": [
    "### Processed Data details\n",
    "- Removed 30 columns which are not used in our analysis (Most of the removed columns don't have data for > 50% records)\n",
    "- Total Columns: 13\n",
    "- Total Number of records: **xxxx** # TODO"
   ]
  },
  {
   "cell_type": "markdown",
   "id": "b0719eb4",
   "metadata": {},
   "source": [
    "### Columns Summary"
   ]
  },
  {
   "cell_type": "markdown",
   "id": "53ccb079",
   "metadata": {},
   "source": [
    "| S. No. | Source   Column Name    | Description/Comment                                  |\n",
    "|--------|-------------------------|------------------------------------------------------|\n",
    "| 1      | SUMMONS NUMBER          | UNIQUE IDENTIFIER OF SUMMONS                         |\n",
    "| 2      | PLATE ID                | REGISTERED PLATE ID                                  |\n",
    "| 3      | REGISTRATION STATE      | STATE OF PLATE   REGISTRATION                        |\n",
    "| 4      | PLATE TYPE              | TYPE OF PLATE                                        |\n",
    "| 5      | ISSUE DATE              | ISSUE DATE                                           |\n",
    "| 6      | VIOLATION CODE          | TYPE OF   VIOLATION                                  |\n",
    "| 7      | VEHICLE BODY TYPE       | VEHICLE BODY TYPE   WRITTEN ON SUMMONS (SEDAN, ETC.) |\n",
    "| 8      | VEHICLE MAKE            | MAKE OF CAR WRITTEN ON SUMMONS                       |\n",
    "| 9      | VIOLATION PRECINCT      | POLICE STATION OF VIOLATION                          |\n",
    "| 10     | ISSUER PRECINCT         | PRECINCT OF ISSUANCE                                 |\n",
    "| 11     | VIOLATION TIME          | VIOLATION TIME                                       |\n",
    "| 12     | VEHICLE COLOR           | CAR COLOR WRITTEN ON   SUMMONS                       |\n",
    "| 13     | VIOLATION   DESCRIPTION | DESCRIPTION OF   VIOLATION                           |"
   ]
  },
  {
   "cell_type": "markdown",
   "id": "960ab94e",
   "metadata": {},
   "source": [
    "### Columns Details"
   ]
  },
  {
   "cell_type": "markdown",
   "id": "a56945e8",
   "metadata": {},
   "source": [
    "#### Plate Type\n",
    "\n",
    "Registration Class Codes for vehicles. 3 letters code\n",
    "\n",
    "Common Plate types are \n",
    "* Passenger Vehicles (PAS): standard issue plates\n",
    "* Commercial Vehicles (COM): Full-size vans and most pickups\n",
    "* Medallion (OMT): Taxis\n",
    "* Personalized Plates (SRF): cars, mini-vans, SUVs and some pick-ups registered as passenger class\n",
    "* Special Omnibus Rentals (OMS)\n",
    "\n",
    "https://dmv.ny.gov/registration/registration-class-codes\n",
    "\n",
    "#### Violation Code\n",
    "Type of violation. Codes are from 1-99. Fines are charged based on this\n",
    "\n",
    "https://data.cityofnewyork.us/api/views/pvqr-7yc4/files/7875fa68-3a29-4825-9dfb-63ef30576f9e?download=true&filename=ParkingViolationCodes_January2020.xlsx\n",
    "\n",
    "#### Vehicle Body Type\n",
    "\n",
    "Common Vehicle body types are \n",
    "* suburban(SUBN): Vehicle that can be used to carry passengers and cargo\n",
    "* four-door sedan (4DSD)\n",
    "* Van Truck (VAN\n",
    "* Delivery Truck (DELV)\n",
    "* Pick-up Truck (PICK)\n",
    "* two-door sedan (2DSD) \n",
    "* Sedan (SEDN)\n",
    "\n",
    "https://nysdmv.custhelp.com/app/answers/detail/a_id/491/kw/body%20type%20subn\n",
    "\n",
    "#### Vehicle Make\n",
    "\n",
    "The DMV code for the make of a vehicle that appears on the registration. The DMV make code is the first 5 letters of the vehicle’s make name. If the vehicle make is more than one word, the make code is the first 2 letters of the first two words with a slash in between\n",
    "\n",
    "Common Vehicle Makes are \n",
    "* Honda (HONDA)\n",
    "* Toyota (TOYOT)\n",
    "* Ford (FORD)\n",
    "* Nissan (NISSA)\n",
    "* Chevrolet (CHEVR)\n",
    "* mercedes benz (ME/BE)\n",
    "\n",
    "https://data.ny.gov/Transportation/Vehicle-Makes-and-Body-Types-Most-Popular-in-New-Y/3pxy-wy2i\n",
    "https://data.ny.gov/api/assets/83055271-29A6-4ED4-9374-E159F30DB5AE\n",
    "\n",
    "#### Vehicle Colors\n",
    "\n",
    "Common colors are\n",
    "* Gray (GY)\n",
    "* White (WH)\n",
    "* Black (BK)\n",
    "* Blue (BL)\n",
    "* Red (RD)"
   ]
  },
  {
   "cell_type": "markdown",
   "id": "35dcc99b",
   "metadata": {},
   "source": [
    "## Config"
   ]
  },
  {
   "cell_type": "code",
   "execution_count": 1,
   "id": "d18301bb",
   "metadata": {},
   "outputs": [],
   "source": [
    "# Execution environment. Use False for local execution\n",
    "colab_env = False\n",
    "\n",
    "# Use Sample file for speedy execution\n",
    "sample_file = True\n",
    "sample_file_path = 'TODO:' if colab_env else \"../data/sample-100000.csv\"\n",
    "\n",
    "# Specify the raw CSV files path\n",
    "raw_CSV_path = 'TODO:' if colab_env else \"../data/Parking*.csv\"\n",
    "\n",
    "csv_files = sample_file_path if sample_file else raw_CSV_path\n",
    "\n",
    "# For faster execution. Some statements are skipped based on this check\n",
    "presenting = True\n",
    "\n",
    "# Specify the years for which we are reading the data from CSV\n",
    "years = [2017, 2018, 2019, 2020, 2021]\n",
    "\n",
    "# Schema Types. Only specify for the non-string type & NULL columns. Others  are considered as string\n",
    "schema_types = {\n",
    "  \"Summons Number\": {\"type\": \"long\", \"null\": False},\n",
    "  \"Issue Date\"    : {\"type\": \"date\" if sample_file else \"string\", \"null\": True}, \n",
    "  \"Violation Code\": {\"type\": \"integer\", \"null\": True},\n",
    "  \"Violation Precinct\": {\"type\": \"integer\", \"null\": True},\n",
    "  \"Issuer Precinct\": {\"type\": \"integer\", \"null\": True},\n",
    "}\n",
    "\n",
    "# Columns which are used in the analysis. Other columns will be removed\n",
    "used_columns = [\"Summons Number\", \"Plate ID\", \"Registration State\", \"Plate Type\", \"Issue Date\", \"Violation Code\", \"Vehicle Body Type\", \"Vehicle Make\", \"Violation Precinct\", \"Issuer Precinct\", \"Violation Time\", \"Vehicle Color\", \"Violation Description\"]\n",
    "\n",
    "# All the columns which are there in the datset (Need to be in CSV file order)\n",
    "schema_columns = [\"Summons Number\", \"Plate ID\", \"Registration State\", \"Plate Type\", \"Issue Date\", \"Violation Code\", \"Vehicle Body Type\", \"Vehicle Make\", \"Issuing Agency\", \"Street Code1\", \"Street Code2\", \"Street Code3\", \"Vehicle Expiration Date\", \"Violation Location\", \"Violation Precinct\", \"Issuer Precinct\", \"Issuer Code\", \"Issuer Command\", \"Issuer Squad\", \"Violation Time\", \"Time First Observed\", \"Violation County\", \"Violation In Front Of Or Opposite\", \"House Number\", \"Street Name\", \"Intersecting Street\", \"Date First Observed\", \"Law Section\", \"Sub Division\", \"Violation Legal Code\", \"Days Parking In Effect    \", \"From Hours In Effect\", \"To Hours In Effect\", \"Vehicle Color\", \"Unregistered Vehicle?\", \"Vehicle Year\", \"Meter Number\", \"Feet From Curb\", \"Violation Post Code\", \"Violation Description\", \"No Standing or Stopping Violation\", \"Hydrant Violation\", \"Double Parking Violation\"] if not sample_file else [i.lower().replace(\" \", '_') for i in used_columns]\n",
    "\n",
    "# Generates the sample CSV \n",
    "if not sample_file:\n",
    "  sample_CSV_generate = True # Generate the sample CSV\n",
    "  sample_CSV_records = 100000 # No. of records to write into the sample CSV file\n",
    "  sample_CSV_path = f\"../data/sample-{sample_CSV_records}.csv\" # path to save\n",
    "  sample_seed = sample_CSV_records # Seed value so that we get same random records"
   ]
  },
  {
   "cell_type": "markdown",
   "id": "28a24ada",
   "metadata": {},
   "source": [
    "## Setup"
   ]
  },
  {
   "cell_type": "markdown",
   "id": "264023b1",
   "metadata": {},
   "source": [
    "### Spark Setup"
   ]
  },
  {
   "cell_type": "code",
   "execution_count": 3,
   "id": "58018333",
   "metadata": {
    "tags": []
   },
   "outputs": [],
   "source": [
    "# For google Colab\n",
    "if colab_env:\n",
    "  !apt-get install openjdk-8-jdk-headless -qq > /dev/null\n",
    "  !wget -q https://mirrors.estointernet.in/apache/spark/spark-3.0.3/spark-3.0.3-bin-hadoop2.7.tgz -P /content/\n",
    "  !tar xf /content/drive/Shareddrives/DA231-2021-Aug-Public/spark-3.0.3-bin-hadoop2.7.tgz\n",
    "  !pip install -q findspark\n",
    "else :\n",
    "  import os\n",
    "  os.environ[\"JAVA_HOME\"] = \"/usr/lib/jvm/java-8-openjdk-amd64\"\n",
    "  os.environ[\"SPARK_HOME\"] = \"/content/spark-3.0.3-bin-hadoop2.7\""
   ]
  },
  {
   "cell_type": "markdown",
   "id": "752a8807",
   "metadata": {},
   "source": [
    "### Imports"
   ]
  },
  {
   "cell_type": "code",
   "execution_count": 4,
   "id": "fcf8db7b",
   "metadata": {},
   "outputs": [],
   "source": [
    "# Reload all changed modules every time before executing a new line\n",
    "%load_ext autoreload\n",
    "%autoreload 2"
   ]
  },
  {
   "cell_type": "code",
   "execution_count": 5,
   "id": "2fcecc12",
   "metadata": {},
   "outputs": [],
   "source": [
    "# PySpark related\n",
    "import findspark\n",
    "findspark.init()\n",
    "findspark.find()\n",
    "\n",
    "from pyspark.sql import SparkSession\n",
    "import pyspark.sql.functions as F\n",
    "from pyspark.sql.functions import col # Frequently using this. hence imported separately\n",
    "\n",
    "# user defined modules import\n",
    "import data_preprocess as dp\n",
    "import basic_analysis as ba\n",
    "import precinct_based_analysis as pba\n",
    "import time_based_analysis as tba\n",
    "import season_based_analysis as sba\n",
    "import revenue_based_analysis as rba\n",
    "import mis_analysis as ma"
   ]
  },
  {
   "cell_type": "markdown",
   "id": "23a5463f",
   "metadata": {},
   "source": [
    "### Spark Session"
   ]
  },
  {
   "cell_type": "code",
   "execution_count": 6,
   "id": "4747cd56",
   "metadata": {},
   "outputs": [
    {
     "name": "stderr",
     "output_type": "stream",
     "text": [
      "21/12/09 20:58:51 WARN Utils: Your hostname, sudhakar-mk resolves to a loopback address: 127.0.1.1; using 172.19.168.212 instead (on interface eth0)\n",
      "21/12/09 20:58:51 WARN Utils: Set SPARK_LOCAL_IP if you need to bind to another address\n",
      "21/12/09 20:58:53 WARN NativeCodeLoader: Unable to load native-hadoop library for your platform... using builtin-java classes where applicable\n",
      "Using Spark's default log4j profile: org/apache/spark/log4j-defaults.properties\n",
      "Setting default log level to \"WARN\".\n",
      "To adjust logging level use sc.setLogLevel(newLevel). For SparkR, use setLogLevel(newLevel).\n"
     ]
    },
    {
     "data": {
      "text/html": [
       "\n",
       "            <div>\n",
       "                <p><b>SparkSession - in-memory</b></p>\n",
       "                \n",
       "        <div>\n",
       "            <p><b>SparkContext</b></p>\n",
       "\n",
       "            <p><a href=\"http://172.19.168.212:4040\">Spark UI</a></p>\n",
       "\n",
       "            <dl>\n",
       "              <dt>Version</dt>\n",
       "                <dd><code>v3.0.3</code></dd>\n",
       "              <dt>Master</dt>\n",
       "                <dd><code>local[*]</code></dd>\n",
       "              <dt>AppName</dt>\n",
       "                <dd><code>NYC Parking Violation Analysis</code></dd>\n",
       "            </dl>\n",
       "        </div>\n",
       "        \n",
       "            </div>\n",
       "        "
      ],
      "text/plain": [
       "<pyspark.sql.session.SparkSession at 0x7ff72d2150a0>"
      ]
     },
     "execution_count": 6,
     "metadata": {},
     "output_type": "execute_result"
    }
   ],
   "source": [
    "spark = (\n",
    "          SparkSession\n",
    "            .builder\n",
    "            .master(\"local[*]\") # Using all available cores\n",
    "            .appName(\"NYC Parking Violation Analysis\")\n",
    "            .getOrCreate()\n",
    "        )\n",
    "spark"
   ]
  },
  {
   "cell_type": "markdown",
   "id": "7be5678a",
   "metadata": {},
   "source": [
    "## Data Pre-processing"
   ]
  },
  {
   "cell_type": "markdown",
   "id": "65fa7a33",
   "metadata": {},
   "source": [
    "### Reading CSV files into DataFrame"
   ]
  },
  {
   "cell_type": "code",
   "execution_count": 7,
   "id": "327afc8c",
   "metadata": {},
   "outputs": [],
   "source": [
    "# Better performance than inferSchema=True\n",
    "NY_schema = dp.get_schema(schema_columns, schema_types)\n",
    "\n",
    "org_df = spark.read.option(\"header\", True).schema(NY_schema).csv(csv_files)"
   ]
  },
  {
   "cell_type": "code",
   "execution_count": 11,
   "id": "bf3ec5f5",
   "metadata": {},
   "outputs": [],
   "source": [
    "if not sample_file:\n",
    "  print(f'Shape : {(org_df.count(), len(org_df.columns))}')\n",
    "  org_df.printSchema()\n",
    "  org_df.show(2)"
   ]
  },
  {
   "cell_type": "code",
   "execution_count": 12,
   "id": "5fa5555a",
   "metadata": {},
   "outputs": [],
   "source": [
    "if not sample_file:\n",
    "  presenting and org_df.summary().toPandas().transpose() # More execution time"
   ]
  },
  {
   "cell_type": "markdown",
   "id": "4ea3a158",
   "metadata": {},
   "source": [
    "### Pre-processing"
   ]
  },
  {
   "cell_type": "code",
   "execution_count": 8,
   "id": "b44c3d33",
   "metadata": {},
   "outputs": [],
   "source": [
    "# No pre-processing while using Sample file\n",
    "df = org_df\n",
    "if not sample_file:\n",
    "  spark.sql(\"set spark.sql.legacy.timeParserPolicy=LEGACY\")\n",
    "  df = dp.remove_unused_columns(df, used_columns)\n",
    "  df = dp.drop_duplicates(df)\n",
    "  df = dp.santize_column_names(df)\n",
    "  #dp.assert_uniqueness(df, column_name=\"summons_number\")\n",
    "  df = dp.convert_to_date(df, column_name=\"issue_date\", format=\"MM/dd/yyyy\")\n",
    "  df = dp.remove_outside_years_data(df, years, \"issue_date\")\n",
    "  # df = dp.remove_invalid_violation_code_data(df) # TODO: Maybe we can handle in individual file"
   ]
  },
  {
   "cell_type": "markdown",
   "id": "431b5f55",
   "metadata": {},
   "source": [
    "## Sample file generation"
   ]
  },
  {
   "cell_type": "code",
   "execution_count": 9,
   "id": "29c39b41",
   "metadata": {},
   "outputs": [],
   "source": [
    "from pathlib import Path\n",
    "from shutil import rmtree\n",
    "\n",
    "def write_CSV(df, CSV_path):\n",
    "  \n",
    "  # Creates CSV in a folder. But memory efficient\n",
    "  df.coalesce(1).write.mode(\"overwrite\").csv(CSV_path, header=True) \n",
    "\n",
    "  # OOM\n",
    "  # df.toPandas().to_csv(CSV_path, index=False)\n",
    "\n",
    "  # Moving file to data folder\n",
    "  f_path = list(Path(CSV_path).glob('*.csv'))[0]\n",
    "  Path(f_path).rename(CSV_path+'.tmp')\n",
    "  rmtree(CSV_path)\n",
    "  Path(CSV_path+'.tmp').rename(CSV_path)\n"
   ]
  },
  {
   "cell_type": "code",
   "execution_count": 10,
   "id": "f174c9d6",
   "metadata": {},
   "outputs": [],
   "source": [
    "if (not sample_file and sample_CSV_generate):\n",
    "  total_records = df.count()\n",
    "  fraction = (sample_CSV_records+10000)/total_records # Exact records are not coming. Hence increasing the fraction using 10k\n",
    "  sample_df = df.sample(fraction=fraction, seed=sample_seed).limit(sample_CSV_records) # Getting exact number of records\n",
    "  print(f\"Sample records: {sample_df.count()}\")\n",
    "  write_CSV(sample_df, sample_CSV_path)\n",
    "  #df = sample_df"
   ]
  },
  {
   "cell_type": "markdown",
   "id": "320e4c5c",
   "metadata": {},
   "source": [
    "## Final DF / Table for Analysis"
   ]
  },
  {
   "cell_type": "code",
   "execution_count": 11,
   "id": "3fb36275",
   "metadata": {},
   "outputs": [
    {
     "name": "stderr",
     "output_type": "stream",
     "text": [
      "                                                                                \r"
     ]
    },
    {
     "name": "stdout",
     "output_type": "stream",
     "text": [
      "Shape : (60076484, 13)\n",
      "root\n",
      " |-- summons_number: string (nullable = true)\n",
      " |-- plate_id: string (nullable = true)\n",
      " |-- registration_state: string (nullable = true)\n",
      " |-- plate_type: string (nullable = true)\n",
      " |-- issue_date: string (nullable = true)\n",
      " |-- violation_code: string (nullable = true)\n",
      " |-- vehicle_body_type: string (nullable = true)\n",
      " |-- vehicle_make: string (nullable = true)\n",
      " |-- violation_precinct: string (nullable = true)\n",
      " |-- issuer_precinct: string (nullable = true)\n",
      " |-- violation_time: string (nullable = true)\n",
      " |-- vehicle_color: string (nullable = true)\n",
      " |-- violation_description: string (nullable = true)\n",
      "\n",
      "+--------------+--------+------------------+----------+----------+--------------+-----------------+------------+------------------+---------------+--------------+-------------+---------------------+\n",
      "|summons_number|plate_id|registration_state|plate_type|issue_date|violation_code|vehicle_body_type|vehicle_make|violation_precinct|issuer_precinct|violation_time|vehicle_color|violation_description|\n",
      "+--------------+--------+------------------+----------+----------+--------------+-----------------+------------+------------------+---------------+--------------+-------------+---------------------+\n",
      "|    4641556179| DPJ8252|                NY|       PAS|2018-01-02|            36|             SUBN|        JEEP|                 0|              0|         0100P|           WH| PHTO SCHOOL ZN SP...|\n",
      "|    5100243818|  D80FXS|                NJ|       PAS|2018-01-18|             7|             4 DR|       TOYOT|                 0|              0|         0101P|           WT| FAILURE TO STOP A...|\n",
      "+--------------+--------+------------------+----------+----------+--------------+-----------------+------------+------------------+---------------+--------------+-------------+---------------------+\n",
      "only showing top 2 rows\n",
      "\n"
     ]
    }
   ],
   "source": [
    "#df.cache() # Cache the data\n",
    "total_records = df.count() # Materialize the cache\n",
    "print(f'Shape : {(total_records, len(df.columns))}')\n",
    "df.printSchema()\n",
    "df.show(2)"
   ]
  },
  {
   "cell_type": "code",
   "execution_count": 17,
   "id": "58454c2c",
   "metadata": {},
   "outputs": [
    {
     "name": "stderr",
     "output_type": "stream",
     "text": [
      "                                                                                \r"
     ]
    },
    {
     "data": {
      "text/html": [
       "<div>\n",
       "<style scoped>\n",
       "    .dataframe tbody tr th:only-of-type {\n",
       "        vertical-align: middle;\n",
       "    }\n",
       "\n",
       "    .dataframe tbody tr th {\n",
       "        vertical-align: top;\n",
       "    }\n",
       "\n",
       "    .dataframe thead th {\n",
       "        text-align: right;\n",
       "    }\n",
       "</style>\n",
       "<table border=\"1\" class=\"dataframe\">\n",
       "  <thead>\n",
       "    <tr style=\"text-align: right;\">\n",
       "      <th></th>\n",
       "      <th>0</th>\n",
       "      <th>1</th>\n",
       "      <th>2</th>\n",
       "      <th>3</th>\n",
       "      <th>4</th>\n",
       "    </tr>\n",
       "  </thead>\n",
       "  <tbody>\n",
       "    <tr>\n",
       "      <th>summary</th>\n",
       "      <td>count</td>\n",
       "      <td>mean</td>\n",
       "      <td>stddev</td>\n",
       "      <td>min</td>\n",
       "      <td>max</td>\n",
       "    </tr>\n",
       "    <tr>\n",
       "      <th>summons_number</th>\n",
       "      <td>100000</td>\n",
       "      <td>7.10178748260407E9</td>\n",
       "      <td>2.3246676068622017E9</td>\n",
       "      <td>1253023300</td>\n",
       "      <td>8999150781</td>\n",
       "    </tr>\n",
       "    <tr>\n",
       "      <th>plate_id</th>\n",
       "      <td>100000</td>\n",
       "      <td>Infinity</td>\n",
       "      <td>NaN</td>\n",
       "      <td>00075W4</td>\n",
       "      <td>ZZZ2P</td>\n",
       "    </tr>\n",
       "    <tr>\n",
       "      <th>registration_state</th>\n",
       "      <td>100000</td>\n",
       "      <td>99.0</td>\n",
       "      <td>0.0</td>\n",
       "      <td>99</td>\n",
       "      <td>WY</td>\n",
       "    </tr>\n",
       "    <tr>\n",
       "      <th>plate_type</th>\n",
       "      <td>100000</td>\n",
       "      <td>999.0</td>\n",
       "      <td>0.0</td>\n",
       "      <td>999</td>\n",
       "      <td>VAS</td>\n",
       "    </tr>\n",
       "    <tr>\n",
       "      <th>issue_date</th>\n",
       "      <td>100000</td>\n",
       "      <td>None</td>\n",
       "      <td>None</td>\n",
       "      <td>2017-03-03</td>\n",
       "      <td>2022-09-04</td>\n",
       "    </tr>\n",
       "    <tr>\n",
       "      <th>violation_code</th>\n",
       "      <td>100000</td>\n",
       "      <td>34.153</td>\n",
       "      <td>18.43247537802471</td>\n",
       "      <td>0</td>\n",
       "      <td>99</td>\n",
       "    </tr>\n",
       "    <tr>\n",
       "      <th>vehicle_body_type</th>\n",
       "      <td>99661</td>\n",
       "      <td>Infinity</td>\n",
       "      <td>NaN</td>\n",
       "      <td>12PU</td>\n",
       "      <td>YY</td>\n",
       "    </tr>\n",
       "    <tr>\n",
       "      <th>vehicle_make</th>\n",
       "      <td>99636</td>\n",
       "      <td>1.0</td>\n",
       "      <td>NaN</td>\n",
       "      <td>1</td>\n",
       "      <td>ZNEN</td>\n",
       "    </tr>\n",
       "    <tr>\n",
       "      <th>violation_precinct</th>\n",
       "      <td>100000</td>\n",
       "      <td>39.17843</td>\n",
       "      <td>41.73179588950109</td>\n",
       "      <td>0</td>\n",
       "      <td>99</td>\n",
       "    </tr>\n",
       "    <tr>\n",
       "      <th>issuer_precinct</th>\n",
       "      <td>100000</td>\n",
       "      <td>42.58331</td>\n",
       "      <td>66.46092017105246</td>\n",
       "      <td>0</td>\n",
       "      <td>988</td>\n",
       "    </tr>\n",
       "    <tr>\n",
       "      <th>violation_time</th>\n",
       "      <td>99998</td>\n",
       "      <td>1190.3333333333333</td>\n",
       "      <td>64.80997865555376</td>\n",
       "      <td>0 59A</td>\n",
       "      <td>1259P</td>\n",
       "    </tr>\n",
       "    <tr>\n",
       "      <th>vehicle_color</th>\n",
       "      <td>96065</td>\n",
       "      <td>None</td>\n",
       "      <td>None</td>\n",
       "      <td>+</td>\n",
       "      <td>YW.</td>\n",
       "    </tr>\n",
       "    <tr>\n",
       "      <th>violation_description</th>\n",
       "      <td>49531</td>\n",
       "      <td>None</td>\n",
       "      <td>None</td>\n",
       "      <td>04A-Downtown Bus Area, Non-Bus</td>\n",
       "      <td>Wrong Way</td>\n",
       "    </tr>\n",
       "  </tbody>\n",
       "</table>\n",
       "</div>"
  "cells": [
    {
      "cell_type": "markdown",
      "id": "2bd4e305",
      "metadata": {
        "id": "2bd4e305"
      },
      "source": [
        "# NY Parking Violation Data Analysis\n",
        "\n",
        "**Mini Project**\n",
        "\n",
        "IISC | M.Tech (Online) | DSBA\n",
        "DA 231-O Data Engineering at Scale\n",
        "\n",
        "Mentor: **Yogesh Simmhan** (simmhan@iisc.ac.in)"
      ]
    },
    {
      "cell_type": "markdown",
      "id": "9518cdbe",
      "metadata": {
        "id": "9518cdbe"
      },
      "source": [
        "## Team\n",
        "\n",
        "1. Satyam Kumar | satyamk@iisc.ac.in | 9092696415\n",
        "2. Siva Kranthi Kumar Mallipeddi | sivam@iisc.ac.in | 9986778909\n",
        "3. Sreedhar Reddy Vundela | sreedharv@iisc.ac.in | 9886702749\n",
        "4. Sudhakar Kulkarni Mukayya | sudhakark@iisc.ac.in | 9035076656"
      ]
    },
    {
      "cell_type": "markdown",
      "id": "0b8857c2",
      "metadata": {
        "id": "0b8857c2"
      },
      "source": [
        "## Problem\n",
        "\n",
        "* Exploratory data analysis of **NYC Parking violation** data for **2017** – **2021** years (5 years)\n",
        "* Infer from the data analysis findings\n",
        "\n",
        "> **Dataset** : https://data.cityofnewyork.us/City-Government/Parking-Violations-Issued-Fiscal-Year-2022/pvqr-7yc4"
      ]
    },
    {
      "cell_type": "markdown",
      "id": "9e2ca4b1",
      "metadata": {
        "id": "9e2ca4b1"
      },
      "source": [
        "## Environment\n",
        "\n",
        "* Python 3\n",
        "* Spark 3.0 (colab) / 3.1 (local)\n",
        "* Spark Data Frames & Spark SQL\n",
        "* Local & Google Colab"
      ]
    },
    {
      "cell_type": "markdown",
      "id": "cb77d9c2",
      "metadata": {
        "id": "cb77d9c2"
      },
      "source": [
        "## Dataset Details\n",
        "Dataset contains New York city Police Department issued parking violations details"
      ]
    },
    {
      "cell_type": "markdown",
      "id": "1c5b6c9d",
      "metadata": {
        "id": "1c5b6c9d"
      },
      "source": [
        "### Raw Dataset details\n",
        "- There are total 5 raw files for 2017-2021 years\n",
        "- Fiscal year data (July 1 - June 30) is available. That means one file contains data for 2 years\n",
        "- All years data has same 43 columns\n",
        "- Total files size: **10.55 GB**\n",
        "- Total Number of records: **65449427**"
      ]
    },
    {
      "cell_type": "markdown",
      "id": "bf1f2a38",
      "metadata": {
        "id": "bf1f2a38"
      },
      "source": [
        "### Processed Data details\n",
        "- Removed 30 columns which are not used in our analysis (Some of the removed columns don't have data for > 50% records)\n",
        "- Total Columns: 13\n",
        "- file size: **4.6 GB**\n",
        "- Total Number of records: **60076484**"
      ]
    },
    {
      "cell_type": "markdown",
      "id": "b0719eb4",
      "metadata": {
        "id": "b0719eb4"
      },
      "source": [
        "### Columns Summary"
      ]
    },
    {
      "cell_type": "markdown",
      "id": "53ccb079",
      "metadata": {
        "id": "53ccb079"
      },
      "source": [
        "| S. No. | Source   Column Name    | Description/Comment                                  |\n",
        "|--------|-------------------------|------------------------------------------------------|\n",
        "| 1      | SUMMONS NUMBER          | UNIQUE IDENTIFIER OF SUMMONS                         |\n",
        "| 2      | PLATE ID                | REGISTERED PLATE ID                                  |\n",
        "| 3      | REGISTRATION STATE      | STATE OF PLATE   REGISTRATION                        |\n",
        "| 4      | PLATE TYPE              | TYPE OF PLATE                                        |\n",
        "| 5      | ISSUE DATE              | ISSUE DATE                                           |\n",
        "| 6      | VIOLATION CODE          | TYPE OF   VIOLATION                                  |\n",
        "| 7      | VEHICLE BODY TYPE       | VEHICLE BODY TYPE   WRITTEN ON SUMMONS (SEDAN, ETC.) |\n",
        "| 8      | VEHICLE MAKE            | MAKE OF CAR WRITTEN ON SUMMONS                       |\n",
        "| 9      | VIOLATION PRECINCT      | POLICE STATION OF VIOLATION                          |\n",
        "| 10     | ISSUER PRECINCT         | PRECINCT OF ISSUANCE                                 |\n",
        "| 11     | VIOLATION TIME          | VIOLATION TIME                                       |\n",
        "| 12     | VEHICLE COLOR           | CAR COLOR WRITTEN ON   SUMMONS                       |\n",
        "| 13     | VIOLATION   DESCRIPTION | DESCRIPTION OF   VIOLATION                           |"
      ]
    },
    {
      "cell_type": "markdown",
      "id": "960ab94e",
      "metadata": {
        "id": "960ab94e"
      },
      "source": [
        "### Columns Details"
      ]
    },
    {
      "cell_type": "markdown",
      "id": "a56945e8",
      "metadata": {
        "id": "a56945e8"
      },
      "source": [
        "#### Plate Type\n",
        "\n",
        "Registration Class Codes for vehicles. 3 letters code\n",
        "\n",
        "Common Plate types are \n",
        "* Passenger Vehicles (PAS): standard issue plates\n",
        "* Commercial Vehicles (COM): Full-size vans and most pickups\n",
        "* Medallion (OMT): Taxis\n",
        "* Personalized Plates (SRF): cars, mini-vans, SUVs and some pick-ups registered as passenger class\n",
        "* Special Omnibus Rentals (OMS)\n",
        "\n",
        "https://dmv.ny.gov/registration/registration-class-codes\n",
        "\n",
        "#### Violation Code\n",
        "Type of violation. Codes are from 1-99. Fines are charged based on this\n",
        "\n",
        "https://data.cityofnewyork.us/api/views/pvqr-7yc4/files/7875fa68-3a29-4825-9dfb-63ef30576f9e?download=true&filename=ParkingViolationCodes_January2020.xlsx\n",
        "\n",
        "#### Vehicle Body Type\n",
        "\n",
        "Common Vehicle body types are \n",
        "* suburban(SUBN): Vehicle that can be used to carry passengers and cargo\n",
        "* four-door sedan (4DSD)\n",
        "* Van Truck (VAN\n",
        "* Delivery Truck (DELV)\n",
        "* Pick-up Truck (PICK)\n",
        "* two-door sedan (2DSD) \n",
        "* Sedan (SEDN)\n",
        "\n",
        "https://nysdmv.custhelp.com/app/answers/detail/a_id/491/kw/body%20type%20subn\n",
        "\n",
        "#### Vehicle Make\n",
        "\n",
        "The DMV code for the make of a vehicle that appears on the registration. The DMV make code is the first 5 letters of the vehicle’s make name. If the vehicle make is more than one word, the make code is the first 2 letters of the first two words with a slash in between\n",
        "\n",
        "Common Vehicle Makes are \n",
        "* Honda (HONDA)\n",
        "* Toyota (TOYOT)\n",
        "* Ford (FORD)\n",
        "* Nissan (NISSA)\n",
        "* Chevrolet (CHEVR)\n",
        "* mercedes benz (ME/BE)\n",
        "\n",
        "https://data.ny.gov/Transportation/Vehicle-Makes-and-Body-Types-Most-Popular-in-New-Y/3pxy-wy2i\n",
        "https://data.ny.gov/api/assets/83055271-29A6-4ED4-9374-E159F30DB5AE\n",
        "\n",
        "#### Vehicle Colors\n",
        "\n",
        "Common colors are\n",
        "* Gray (GY)\n",
        "* White (WH)\n",
        "* Black (BK)\n",
        "* Blue (BL)\n",
        "* Red (RD)"
      ]
    },
    {
      "cell_type": "markdown",
      "id": "35dcc99b",
      "metadata": {
        "id": "35dcc99b"
      },
      "source": [
        "## Config"
      ]
    },
    {
      "cell_type": "code",
      "execution_count": 72,
      "id": "d18301bb",
      "metadata": {
        "id": "d18301bb"
      },
      "outputs": [],
      "source": [
        "# Execution environment. Use False for local execution\n",
        "colab_env = False\n",
        "drive_path = \"/content/drive/MyDrive/Project/data_eng_at_scale\" # Project home\n",
        "\n",
        "# Use Sample file for speedy execution\n",
        "processed_file = False\n",
        "\n",
        "# Set to full-sanitized-data.csv for full sanitized file (4.6 GB)\n",
        "processed_file_path = f'{drive_path}/data/sample-100000.csv' if colab_env else \"../data/sample-100000.csv\"\n",
        "\n",
        "# Specify the raw CSV files path\n",
        "raw_CSV_path = f'{drive_path}/data/Parking_*.csv' if colab_env else \"../data/Parking*.csv\"\n",
        "\n",
        "csv_files = processed_file_path if processed_file else raw_CSV_path\n",
        "\n",
        "# For faster execution. Some statements are skipped based on this check\n",
        "presenting = False\n",
        "\n",
        "# Specify the years for which we are reading the data from CSV\n",
        "years = [2017, 2018, 2019, 2020, 2021]\n",
        "\n",
        "# Schema Types. Only specify for the non-string type & NULL columns. Others  are considered as string\n",
        "schema_types = {\n",
        "  \"Summons Number\": {\"type\": \"long\", \"null\": False},\n",
        "  \"Issue Date\"    : {\"type\": \"date\" if processed_file else \"string\", \"null\": True}, \n",
        "  \"Violation Code\": {\"type\": \"integer\", \"null\": True},\n",
        "  \"Violation Precinct\": {\"type\": \"integer\", \"null\": True},\n",
        "  \"Issuer Precinct\": {\"type\": \"integer\", \"null\": True},\n",
        "}\n",
        "\n",
        "# Columns which are used in the analysis. Other columns will be removed\n",
        "used_columns = [\"Summons Number\", \"Plate ID\", \"Registration State\", \"Plate Type\", \"Issue Date\", \"Violation Code\", \"Vehicle Body Type\", \"Vehicle Make\", \"Violation Precinct\", \"Issuer Precinct\", \"Violation Time\", \"Vehicle Color\", \"Violation Description\"]\n",
        "\n",
        "# All the columns which are there in the datset (Need to be in CSV file order)\n",
        "schema_columns = [\"Summons Number\", \"Plate ID\", \"Registration State\", \"Plate Type\", \"Issue Date\", \"Violation Code\", \"Vehicle Body Type\", \"Vehicle Make\", \"Issuing Agency\", \"Street Code1\", \"Street Code2\", \"Street Code3\", \"Vehicle Expiration Date\", \"Violation Location\", \"Violation Precinct\", \"Issuer Precinct\", \"Issuer Code\", \"Issuer Command\", \"Issuer Squad\", \"Violation Time\", \"Time First Observed\", \"Violation County\", \"Violation In Front Of Or Opposite\", \"House Number\", \"Street Name\", \"Intersecting Street\", \"Date First Observed\", \"Law Section\", \"Sub Division\", \"Violation Legal Code\", \"Days Parking In Effect    \", \"From Hours In Effect\", \"To Hours In Effect\", \"Vehicle Color\", \"Unregistered Vehicle?\", \"Vehicle Year\", \"Meter Number\", \"Feet From Curb\", \"Violation Post Code\", \"Violation Description\", \"No Standing or Stopping Violation\", \"Hydrant Violation\", \"Double Parking Violation\"] if not processed_file else [i.lower().replace(\" \", '_') for i in used_columns]\n",
        "\n",
        "# Generates the sample CSV \n",
        "if not processed_file:\n",
        "  sample_CSV_generate = True # Generate the sample CSV\n",
        "  sample_CSV_records = 100000 # No. of records to write into the sample CSV file\n",
        "  sample_CSV_path = f\"{drive_path}/data/sample-{sample_CSV_records}.csv\" if colab_env else f\"../data/sample-{sample_CSV_records}.csv\" # path to save\n",
        "  sample_seed = sample_CSV_records # Seed value so that we get same random records"
      ]
    },
    {
      "cell_type": "markdown",
      "id": "28a24ada",
      "metadata": {
        "id": "28a24ada"
      },
      "source": [
        "## Setup"
      ]
    },
    {
      "cell_type": "markdown",
      "id": "264023b1",
      "metadata": {
        "id": "264023b1"
      },
      "source": [
        "### Spark Setup"
      ]
    },
    {
      "cell_type": "code",
      "execution_count": 73,
      "id": "58018333",
      "metadata": {
        "colab": {
          "base_uri": "https://localhost:8080/"
        },
        "id": "58018333",
        "outputId": "68f529cd-7e34-4a2d-cf25-828ad5a7121d",
        "tags": []
      },
      "outputs": [],
      "source": [
        "# For google Colab\n",
        "if colab_env:\n",
        "  from google.colab import drive\n",
        "  drive.mount('/content/drive')\n",
        "  !apt-get install openjdk-8-jdk-headless -qq > /dev/null\n",
        "  # !wget -q https://mirrors.estointernet.in/apache/spark/spark-3.0.3/spark-3.0.3-bin-hadoop2.7.tgz -P /content/\n",
        "  !tar xf /content/drive/Shareddrives/DA231-2021-Aug-Public/spark-3.0.3-bin-hadoop2.7.tgz\n",
        "  !pip install -q findspark\n",
        "  import os\n",
        "  os.environ[\"JAVA_HOME\"] = \"/usr/lib/jvm/java-8-openjdk-amd64\"\n",
        "  os.environ[\"SPARK_HOME\"] = \"/content/spark-3.0.3-bin-hadoop2.7\""
      ]
    },
    {
      "cell_type": "markdown",
      "id": "752a8807",
      "metadata": {
        "id": "752a8807"
      },
      "source": [
        "### Imports"
      ]
    },
    {
      "cell_type": "code",
      "execution_count": 74,
      "id": "fcf8db7b",
      "metadata": {
        "colab": {
          "base_uri": "https://localhost:8080/"
        },
        "id": "fcf8db7b",
        "outputId": "03fae90f-53dd-4555-e02d-b65794ee5ae3"
      },
      "outputs": [
        {
          "name": "stdout",
          "output_type": "stream",
          "text": [
            "The autoreload extension is already loaded. To reload it, use:\n",
            "  %reload_ext autoreload\n"
          ]
        }
      ],
      "source": [
        "# Make sure that this path is proper\n",
        "# !cp -rf /content/drive/MyDrive/Project/data_eng_at_scale/notebooks/*.py .\n",
        "\n",
        "# Reload all changed modules every time before executing a new line\n",
        "%load_ext autoreload\n",
        "%autoreload 2"
      ]
    },
    {
      "cell_type": "code",
      "execution_count": 75,
      "id": "2fcecc12",
      "metadata": {
        "id": "2fcecc12"
      },
      "outputs": [],
      "source": [
        "# PySpark related\n",
        "import findspark\n",
        "findspark.init()\n",
        "findspark.find()\n",
        "\n",
        "from pyspark.sql import SparkSession\n",
        "import pyspark.sql.functions as F\n",
        "from pyspark.sql.functions import col # Frequently using this. hence imported separately\n",
        "\n",
        "# user defined modules import\n",
        "import data_preprocess as dp\n",
        "import basic_analysis as ba\n",
        "import precinct_based_analysis as pba\n",
        "import time_based_analysis as tba\n",
        "import season_based_analysis as sba\n",
        "import revenue_based_analysis as rba\n",
        "import mis_analysis as ma"
      ]
    },
    {
      "cell_type": "markdown",
      "id": "23a5463f",
      "metadata": {
        "id": "23a5463f"
      },
      "source": [
        "### Spark Session"
      ]
    },
    {
      "cell_type": "code",
      "execution_count": 76,
      "id": "4747cd56",
      "metadata": {
        "colab": {
          "base_uri": "https://localhost:8080/",
          "height": 219
        },
        "id": "4747cd56",
        "outputId": "acb71296-8538-42c7-9c23-a964323652ec"
      },
      "outputs": [
        {
          "data": {
            "text/html": [
              "\n",
              "            <div>\n",
              "                <p><b>SparkSession - in-memory</b></p>\n",
              "                \n",
              "        <div>\n",
              "            <p><b>SparkContext</b></p>\n",
              "\n",
              "            <p><a href=\"http://192.168.38.213:4040\">Spark UI</a></p>\n",
              "\n",
              "            <dl>\n",
              "              <dt>Version</dt>\n",
              "                <dd><code>v3.2.0</code></dd>\n",
              "              <dt>Master</dt>\n",
              "                <dd><code>local[*]</code></dd>\n",
              "              <dt>AppName</dt>\n",
              "                <dd><code>NYC Parking Violation Analysis</code></dd>\n",
              "            </dl>\n",
              "        </div>\n",
              "        \n",
              "            </div>\n",
              "        "
            ],
            "text/plain": [
              "<pyspark.sql.session.SparkSession at 0x7f73860d00a0>"
            ]
          },
          "execution_count": 76,
          "metadata": {},
          "output_type": "execute_result"
        }
      ],
      "source": [
        "spark = (\n",
        "          SparkSession\n",
        "            .builder\n",
        "            .master(\"local[*]\") # Using all available cores\n",
        "            .appName(\"NYC Parking Violation Analysis\")\n",
        "            .getOrCreate()\n",
        "        )\n",
        "spark"
      ]
     },
     "execution_count": 17,
     "metadata": {},
     "output_type": "execute_result"
    }
   ],
   "source": [
    "presenting and df.describe().toPandas().transpose() # More execution time"
   ]
  },
  {
   "cell_type": "code",
   "execution_count": 18,
   "id": "abcf80ee",
   "metadata": {},
   "outputs": [],
   "source": [
    "df.createOrReplaceTempView(\"NYCPV\")"
   ]
  },
  {
   "cell_type": "markdown",
   "id": "d59c5268",
   "metadata": {},
   "source": [
    "## Analysis"
   ]
  },
  {
   "cell_type": "markdown",
   "id": "2fe351ef",
   "metadata": {},
   "source": [
    "### 01 Basic Analysis"
   ]
  },
  {
   "cell_type": "markdown",
   "id": "97891422",
   "metadata": {},
   "source": [
    "#### **How often does each violation code occur? (frequency of violation codes find the top 5) ?** "
   ]
  },
  {
   "cell_type": "code",
   "execution_count": 21,
   "id": "303f258f",
   "metadata": {},
   "outputs": [
    {
     "name": "stdout",
     "output_type": "stream",
     "text": [
      "Top5 frequency of violation codes\n"
     ]
    },
    {
     "name": "stderr",
     "output_type": "stream",
     "text": [
      "                                                                                \r"
     ]
    },
    {
     "data": {
      "text/html": [
       "<div>\n",
       "<style scoped>\n",
       "    .dataframe tbody tr th:only-of-type {\n",
       "        vertical-align: middle;\n",
       "    }\n",
       "\n",
       "    .dataframe tbody tr th {\n",
       "        vertical-align: top;\n",
       "    }\n",
       "\n",
       "    .dataframe thead th {\n",
       "        text-align: right;\n",
       "    }\n",
       "</style>\n",
       "<table border=\"1\" class=\"dataframe\">\n",
       "  <thead>\n",
       "    <tr style=\"text-align: right;\">\n",
       "      <th></th>\n",
       "      <th>violation_code</th>\n",
       "      <th>no_of_tickets</th>\n",
       "    </tr>\n",
       "  </thead>\n",
       "  <tbody>\n",
       "    <tr>\n",
       "      <th>0</th>\n",
       "      <td>36</td>\n",
       "      <td>12131108</td>\n",
       "    </tr>\n",
       "    <tr>\n",
       "      <th>1</th>\n",
       "      <td>21</td>\n",
       "      <td>7920050</td>\n",
       "    </tr>\n",
       "    <tr>\n",
       "      <th>2</th>\n",
       "      <td>38</td>\n",
       "      <td>5292621</td>\n",
       "    </tr>\n",
       "    <tr>\n",
       "      <th>3</th>\n",
       "      <td>14</td>\n",
       "      <td>4607652</td>\n",
       "    </tr>\n",
       "    <tr>\n",
       "      <th>4</th>\n",
       "      <td>20</td>\n",
       "      <td>3737246</td>\n",
       "    </tr>\n",
       "    <tr>\n",
       "      <th>...</th>\n",
       "      <td>...</td>\n",
       "      <td>...</td>\n",
       "    </tr>\n",
       "    <tr>\n",
       "      <th>95</th>\n",
       "      <td>15</td>\n",
       "      <td>56</td>\n",
       "    </tr>\n",
       "    <tr>\n",
       "      <th>96</th>\n",
       "      <td>88</td>\n",
       "      <td>53</td>\n",
       "    </tr>\n",
       "    <tr>\n",
       "      <th>97</th>\n",
       "      <td>93</td>\n",
       "      <td>43</td>\n",
       "    </tr>\n",
       "    <tr>\n",
       "      <th>98</th>\n",
       "      <td>57</td>\n",
       "      <td>40</td>\n",
       "    </tr>\n",
       "    <tr>\n",
       "      <th>99</th>\n",
       "      <td>28</td>\n",
       "      <td>15</td>\n",
       "    </tr>\n",
       "  </tbody>\n",
       "</table>\n",
       "<p>100 rows × 2 columns</p>\n",
       "</div>"
      ],
      "text/plain": [
       "   violation_code  no_of_tickets\n",
       "0              36       12131108\n",
       "1              21        7920050\n",
       "2              38        5292621\n",
       "3              14        4607652\n",
       "4              20        3737246\n",
       "..            ...            ...\n",
       "95             15             56\n",
       "96             88             53\n",
       "97             93             43\n",
       "98             57             40\n",
       "99             28             15\n",
       "\n",
       "[100 rows x 2 columns]"
      ]
     },
     "execution_count": 21,
     "metadata": {},
     "output_type": "execute_result"
    },
    {
     "data": {
      "text/plain": [
       "<Figure size 432x288 with 0 Axes>"
    },
    {
      "cell_type": "markdown",
      "id": "7be5678a",
      "metadata": {
        "id": "7be5678a"
      },
      "source": [
        "## Data Pre-processing"
      ]
    },
    {
     "data": {
      "image/png": "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\n",
      "text/plain": [
       "<Figure size 432x288 with 1 Axes>"
      ]
     },
     "metadata": {
      "needs_background": "light"
     },
     "output_type": "display_data"
    }
   ],
   "source": [
    "print('Top5 frequency of violation codes')\n",
    "ba.violation_frequencey(df)"
   ]
  },
  {
   "cell_type": "markdown",
   "id": "de816e61",
   "metadata": {},
   "source": [
    "#### **How often does each vehicle body type get a parking ticket? How about the vehicle make? (find the top 5 for both) ?**"
   ]
  },
  {
   "cell_type": "code",
   "execution_count": 23,
   "id": "897da883",
   "metadata": {},
   "outputs": [
    {
     "name": "stdout",
     "output_type": "stream",
     "text": [
      "Top5 Body type\n"
     ]
    },
    {
     "name": "stderr",
     "output_type": "stream",
     "text": [
      "                                                                                \r"
     ]
    },
    {
     "name": "stdout",
     "output_type": "stream",
     "text": [
      "Top5 Vehicle Make\n"
     ]
    },
    {
     "name": "stderr",
     "output_type": "stream",
     "text": [
      "                                                                                \r"
     ]
    },
    {
     "data": {
      "text/html": [
       "<div>\n",
       "<style scoped>\n",
       "    .dataframe tbody tr th:only-of-type {\n",
       "        vertical-align: middle;\n",
       "    }\n",
       "\n",
       "    .dataframe tbody tr th {\n",
       "        vertical-align: top;\n",
       "    }\n",
       "\n",
       "    .dataframe thead th {\n",
       "        text-align: right;\n",
       "    }\n",
       "</style>\n",
       "<table border=\"1\" class=\"dataframe\">\n",
       "  <thead>\n",
       "    <tr style=\"text-align: right;\">\n",
       "      <th></th>\n",
       "      <th>vehicle_make</th>\n",
       "      <th>Ticket_Frequency</th>\n",
       "    </tr>\n",
       "  </thead>\n",
       "  <tbody>\n",
       "    <tr>\n",
       "      <th>0</th>\n",
       "      <td>FORD</td>\n",
       "      <td>6604040</td>\n",
       "    </tr>\n",
       "    <tr>\n",
       "      <th>1</th>\n",
       "      <td>TOYOT</td>\n",
       "      <td>6600886</td>\n",
       "    </tr>\n",
       "    <tr>\n",
       "      <th>2</th>\n",
       "      <td>HONDA</td>\n",
       "      <td>6406506</td>\n",
       "    </tr>\n",
       "    <tr>\n",
       "      <th>3</th>\n",
       "      <td>NISSA</td>\n",
       "      <td>5243006</td>\n",
       "    </tr>\n",
       "    <tr>\n",
       "      <th>4</th>\n",
       "      <td>CHEVR</td>\n",
       "      <td>3581781</td>\n",
       "    </tr>\n",
       "    <tr>\n",
       "      <th>...</th>\n",
       "      <td>...</td>\n",
       "      <td>...</td>\n",
       "    </tr>\n",
       "    <tr>\n",
       "      <th>14356</th>\n",
       "      <td>UNHOO</td>\n",
       "      <td>1</td>\n",
       "    </tr>\n",
       "    <tr>\n",
       "      <th>14357</th>\n",
       "      <td>MAGER</td>\n",
       "      <td>1</td>\n",
       "    </tr>\n",
       "    <tr>\n",
       "      <th>14358</th>\n",
       "      <td>PENST</td>\n",
       "      <td>1</td>\n",
       "    </tr>\n",
       "    <tr>\n",
       "      <th>14359</th>\n",
       "      <td>SEAUB</td>\n",
       "      <td>1</td>\n",
       "    </tr>\n",
       "    <tr>\n",
       "      <th>14360</th>\n",
       "      <td>None</td>\n",
       "      <td>0</td>\n",
       "    </tr>\n",
       "  </tbody>\n",
       "</table>\n",
       "<p>14361 rows × 2 columns</p>\n",
       "</div>"
      ],
      "text/plain": [
       "      vehicle_make  Ticket_Frequency\n",
       "0             FORD           6604040\n",
       "1            TOYOT           6600886\n",
       "2            HONDA           6406506\n",
       "3            NISSA           5243006\n",
       "4            CHEVR           3581781\n",
       "...            ...               ...\n",
       "14356        UNHOO                 1\n",
       "14357        MAGER                 1\n",
       "14358        PENST                 1\n",
       "14359        SEAUB                 1\n",
       "14360         None                 0\n",
       "\n",
       "[14361 rows x 2 columns]"
      ]
     },
     "execution_count": 23,
     "metadata": {},
     "output_type": "execute_result"
    },
    {
     "data": {
      "text/plain": [
       "<Figure size 432x288 with 0 Axes>"
      ]
     },
     "metadata": {},
     "output_type": "display_data"
    },
    {
     "data": {
      "text/plain": [
       "<Figure size 432x288 with 0 Axes>"
      "cell_type": "markdown",
      "id": "65fa7a33",
      "metadata": {
        "id": "65fa7a33"
      },
      "source": [
        "### Reading CSV files into DataFrame"
      ]
    },
    {
      "cell_type": "code",
      "execution_count": 77,
      "id": "327afc8c",
      "metadata": {
        "id": "327afc8c"
      },
      "outputs": [],
      "source": [
        "# Better performance than inferSchema=True\n",
        "NY_schema = dp.get_schema(schema_columns, schema_types)\n",
        "\n",
        "org_df = spark.read.option(\"header\", True).schema(NY_schema).csv(csv_files)"
      ]
    },
    {
      "cell_type": "code",
      "execution_count": 78,
      "id": "bf3ec5f5",
      "metadata": {
        "colab": {
          "base_uri": "https://localhost:8080/"
        },
        "id": "bf3ec5f5",
        "outputId": "e10b533a-c996-460a-99a5-58f4ea28d26f"
      },
      "outputs": [
        {
          "name": "stderr",
          "output_type": "stream",
          "text": []
        },
        {
          "name": "stdout",
          "output_type": "stream",
          "text": [
            "Shape : (4006010, 43)\n",
            "root\n",
            " |-- Summons Number: long (nullable = true)\n",
            " |-- Plate ID: string (nullable = true)\n",
            " |-- Registration State: string (nullable = true)\n",
            " |-- Plate Type: string (nullable = true)\n",
            " |-- Issue Date: string (nullable = true)\n",
            " |-- Violation Code: integer (nullable = true)\n",
            " |-- Vehicle Body Type: string (nullable = true)\n",
            " |-- Vehicle Make: string (nullable = true)\n",
            " |-- Issuing Agency: string (nullable = true)\n",
            " |-- Street Code1: string (nullable = true)\n",
            " |-- Street Code2: string (nullable = true)\n",
            " |-- Street Code3: string (nullable = true)\n",
            " |-- Vehicle Expiration Date: string (nullable = true)\n",
            " |-- Violation Location: string (nullable = true)\n",
            " |-- Violation Precinct: integer (nullable = true)\n",
            " |-- Issuer Precinct: integer (nullable = true)\n",
            " |-- Issuer Code: string (nullable = true)\n",
            " |-- Issuer Command: string (nullable = true)\n",
            " |-- Issuer Squad: string (nullable = true)\n",
            " |-- Violation Time: string (nullable = true)\n",
            " |-- Time First Observed: string (nullable = true)\n",
            " |-- Violation County: string (nullable = true)\n",
            " |-- Violation In Front Of Or Opposite: string (nullable = true)\n",
            " |-- House Number: string (nullable = true)\n",
            " |-- Street Name: string (nullable = true)\n",
            " |-- Intersecting Street: string (nullable = true)\n",
            " |-- Date First Observed: string (nullable = true)\n",
            " |-- Law Section: string (nullable = true)\n",
            " |-- Sub Division: string (nullable = true)\n",
            " |-- Violation Legal Code: string (nullable = true)\n",
            " |-- Days Parking In Effect    : string (nullable = true)\n",
            " |-- From Hours In Effect: string (nullable = true)\n",
            " |-- To Hours In Effect: string (nullable = true)\n",
            " |-- Vehicle Color: string (nullable = true)\n",
            " |-- Unregistered Vehicle?: string (nullable = true)\n",
            " |-- Vehicle Year: string (nullable = true)\n",
            " |-- Meter Number: string (nullable = true)\n",
            " |-- Feet From Curb: string (nullable = true)\n",
            " |-- Violation Post Code: string (nullable = true)\n",
            " |-- Violation Description: string (nullable = true)\n",
            " |-- No Standing or Stopping Violation: string (nullable = true)\n",
            " |-- Hydrant Violation: string (nullable = true)\n",
            " |-- Double Parking Violation: string (nullable = true)\n",
            "\n",
            "+--------------+--------+------------------+----------+----------+--------------+-----------------+------------+--------------+------------+------------+------------+-----------------------+------------------+------------------+---------------+-----------+--------------+------------+--------------+-------------------+----------------+---------------------------------+------------+------------------+-------------------+-------------------+-----------+------------+--------------------+--------------------------+--------------------+------------------+-------------+---------------------+------------+------------+--------------+-------------------+---------------------+---------------------------------+-----------------+------------------------+\n",
            "|Summons Number|Plate ID|Registration State|Plate Type|Issue Date|Violation Code|Vehicle Body Type|Vehicle Make|Issuing Agency|Street Code1|Street Code2|Street Code3|Vehicle Expiration Date|Violation Location|Violation Precinct|Issuer Precinct|Issuer Code|Issuer Command|Issuer Squad|Violation Time|Time First Observed|Violation County|Violation In Front Of Or Opposite|House Number|       Street Name|Intersecting Street|Date First Observed|Law Section|Sub Division|Violation Legal Code|Days Parking In Effect    |From Hours In Effect|To Hours In Effect|Vehicle Color|Unregistered Vehicle?|Vehicle Year|Meter Number|Feet From Curb|Violation Post Code|Violation Description|No Standing or Stopping Violation|Hydrant Violation|Double Parking Violation|\n",
            "+--------------+--------+------------------+----------+----------+--------------+-----------------+------------+--------------+------------+------------+------------+-----------------------+------------------+------------------+---------------+-----------+--------------+------------+--------------+-------------------+----------------+---------------------------------+------------+------------------+-------------------+-------------------+-----------+------------+--------------------+--------------------------+--------------------+------------------+-------------+---------------------+------------+------------+--------------+-------------------+---------------------+---------------------------------+-----------------+------------------------+\n",
            "|    1457617912| JEB5683|                NY|       PAS|06/25/2021|            40|              VAN|        FORD|             P|       63430|       69230|       13490|               20221004|              0088|                88|             88|     967603|          0088|        0000|         0130A|              0125A|               K|                                O|         100|NORTH PORTLAND AVE|               null|                  0|        408|          C4|                null|                   BBBBBBB|                 ALL|               ALL|           GY|                    0|        2007|           -|             3|               null|                 null|                             null|             null|                    null|\n",
            "|    1457617924| JAN2986|                NY|       PAS|06/25/2021|            20|             SUBN|       DODGE|             P|       13490|       40404|       40404|               20221203|              0088|                88|             88|     967603|          0088|        0000|         0225A|              0215A|               K|                                F|         398|      AUBURN PLACE|               null|           20210625|        408|          E2|                null|                   BBBBBBB|                 ALL|               ALL|          BLU|                    0|        2007|           -|             0|               null|                 null|                             null|             null|                    null|\n",
            "+--------------+--------+------------------+----------+----------+--------------+-----------------+------------+--------------+------------+------------+------------+-----------------------+------------------+------------------+---------------+-----------+--------------+------------+--------------+-------------------+----------------+---------------------------------+------------+------------------+-------------------+-------------------+-----------+------------+--------------------+--------------------------+--------------------+------------------+-------------+---------------------+------------+------------+--------------+-------------------+---------------------+---------------------------------+-----------------+------------------------+\n",
            "only showing top 2 rows\n",
            "\n"
          ]
        }
      ],
      "source": [
        "if not processed_file:\n",
        "  print(f'Shape : {(org_df.count(), len(org_df.columns))}')\n",
        "  org_df.printSchema()\n",
        "  org_df.show(2)"
      ]
    },
    {
      "cell_type": "code",
      "execution_count": 79,
      "id": "5fa5555a",
      "metadata": {
        "id": "5fa5555a"
      },
      "outputs": [],
      "source": [
        "if not processed_file:\n",
        "  presenting and org_df.summary().toPandas().transpose() # More execution time"
      ]
    },
    {
      "cell_type": "markdown",
      "id": "4ea3a158",
      "metadata": {
        "id": "4ea3a158"
      },
      "source": [
        "### Pre-processing"
      ]
    },
    {
      "cell_type": "code",
      "execution_count": 95,
      "id": "b44c3d33",
      "metadata": {
        "id": "b44c3d33"
      },
      "outputs": [
        {
          "name": "stdout",
          "output_type": "stream",
          "text": [
            "\n",
            "################ Removing the columns which are not used in our analysis #######################\n",
            "\n",
            "No. of Columns (before dropping columns) : 43\n",
            "No. of Columns (after dropping columns) : 13\n",
            "\n",
            "########################## Dropping Duplicate & Null Rows ######################################\n"
          ]
        },
        {
          "name": "stderr",
          "output_type": "stream",
          "text": []
        },
        {
          "name": "stdout",
          "output_type": "stream",
          "text": [
            "No. of Records (before dropping duplicates & NUlls) : 4006010\n"
          ]
        },
        {
          "name": "stderr",
          "output_type": "stream",
          "text": []
        },
        {
          "name": "stdout",
          "output_type": "stream",
          "text": [
            "No. of Records (after dropping duplicates & NULLs) : 4006010\n",
            "\n",
            "############## Converting column names to lower case & replacing spaces with \"_\" ###############\n",
            "\n",
            "Columns (before sanitizing column names) : ['Summons Number', 'Plate ID', 'Registration State', 'Plate Type', 'Issue Date', 'Violation Code', 'Vehicle Body Type', 'Vehicle Make', 'Violation Precinct', 'Issuer Precinct', 'Violation Time', 'Vehicle Color', 'Violation Description']\n",
            "\n",
            "Columns (after sanitizing column names) : ['summons_number', 'plate_id', 'registration_state', 'plate_type', 'issue_date', 'violation_code', 'vehicle_body_type', 'vehicle_make', 'violation_precinct', 'issuer_precinct', 'violation_time', 'vehicle_color', 'violation_description']\n",
            "\n",
            "################# Ensure all the values in 'summons_number' column are unique ##################\n"
          ]
        },
        {
          "name": "stderr",
          "output_type": "stream",
          "text": []
        },
        {
          "name": "stdout",
          "output_type": "stream",
          "text": [
            "All values in summons_number column are unique\n",
            "\n",
            "###################### Converting issue date string type to Date type ##########################\n",
            "\n",
            "################### Removing the rows which are outside of the passed years ####################\n",
            "\n",
            "Distinct years in issue_date (before removing) :\n"
          ]
        },
        {
          "name": "stderr",
          "output_type": "stream",
          "text": [
            "21/12/10 01:36:15 WARN RowBasedKeyValueBatch: Calling spill() on RowBasedKeyValueBatch. Will not spill but return 0.\n",
            "21/12/10 01:36:15 WARN RowBasedKeyValueBatch: Calling spill() on RowBasedKeyValueBatch. Will not spill but return 0.\n",
            "21/12/10 01:36:15 WARN RowBasedKeyValueBatch: Calling spill() on RowBasedKeyValueBatch. Will not spill but return 0.\n",
            "21/12/10 01:36:15 WARN RowBasedKeyValueBatch: Calling spill() on RowBasedKeyValueBatch. Will not spill but return 0.\n",
            "21/12/10 01:36:15 WARN RowBasedKeyValueBatch: Calling spill() on RowBasedKeyValueBatch. Will not spill but return 0.\n",
            "21/12/10 01:36:15 WARN RowBasedKeyValueBatch: Calling spill() on RowBasedKeyValueBatch. Will not spill but return 0.\n",
            "21/12/10 01:36:15 WARN RowBasedKeyValueBatch: Calling spill() on RowBasedKeyValueBatch. Will not spill but return 0.\n",
            "21/12/10 01:36:15 WARN RowBasedKeyValueBatch: Calling spill() on RowBasedKeyValueBatch. Will not spill but return 0.\n",
            "21/12/10 01:36:15 WARN RowBasedKeyValueBatch: Calling spill() on RowBasedKeyValueBatch. Will not spill but return 0.\n",
            "21/12/10 01:36:16 WARN RowBasedKeyValueBatch: Calling spill() on RowBasedKeyValueBatch. Will not spill but return 0.\n",
            "21/12/10 01:36:16 WARN RowBasedKeyValueBatch: Calling spill() on RowBasedKeyValueBatch. Will not spill but return 0.\n",
            "21/12/10 01:36:16 WARN RowBasedKeyValueBatch: Calling spill() on RowBasedKeyValueBatch. Will not spill but return 0.\n",
            "21/12/10 01:36:16 WARN RowBasedKeyValueBatch: Calling spill() on RowBasedKeyValueBatch. Will not spill but return 0.\n",
            "21/12/10 01:36:16 WARN RowBasedKeyValueBatch: Calling spill() on RowBasedKeyValueBatch. Will not spill but return 0.\n",
            "21/12/10 01:36:16 WARN RowBasedKeyValueBatch: Calling spill() on RowBasedKeyValueBatch. Will not spill but return 0.\n",
            "21/12/10 01:36:16 WARN RowBasedKeyValueBatch: Calling spill() on RowBasedKeyValueBatch. Will not spill but return 0.\n",
            "21/12/10 01:36:16 WARN RowBasedKeyValueBatch: Calling spill() on RowBasedKeyValueBatch. Will not spill but return 0.\n"
          ]
        },
        {
          "name": "stdout",
          "output_type": "stream",
          "text": [
            "+----+-----------------+\n",
            "|year|No. of violations|\n",
            "+----+-----------------+\n",
            "|2000|               15|\n",
            "|2001|                2|\n",
            "|2002|                2|\n",
            "|2005|                1|\n",
            "|2007|                1|\n",
            "|2010|                3|\n",
            "|2011|                4|\n",
            "|2012|                7|\n",
            "|2016|                4|\n",
            "|2017|                3|\n",
            "|2018|                3|\n",
            "|2019|                7|\n",
            "|2020|               85|\n",
            "|2021|          4005762|\n",
            "|2022|               77|\n",
            "|2023|               13|\n",
            "|2024|                7|\n",
            "|2025|                2|\n",
            "|2027|                1|\n",
            "|2029|                3|\n",
            "+----+-----------------+\n",
            "only showing top 20 rows\n",
            "\n",
            "Distinct years in issue_date (after removing data outside of 2017-2021) : \n"
          ]
        },
        {
          "name": "stderr",
          "output_type": "stream",
          "text": []
        },
        {
          "name": "stdout",
          "output_type": "stream",
          "text": [
            "+----------------+\n",
            "|year(issue_date)|\n",
            "+----------------+\n",
            "|            2019|\n",
            "|            2020|\n",
            "|            2021|\n",
            "|            2018|\n",
            "|            2017|\n",
            "+----------------+\n",
            "\n"
          ]
        },
        {
          "name": "stderr",
          "output_type": "stream",
          "text": []
        }
      ],
      "source": [
        "# No pre-processing while using Sample file\n",
        "df = org_df\n",
        "if not processed_file:\n",
        "  # Need this setting to process the legacy time formats like 07/16/2019 12:00:00 AM # TODO: Pick it in challenges \n",
        "  spark.sql(\"set spark.sql.legacy.timeParserPolicy=LEGACY\")\n",
        "\n",
        "  # Remove 30 unused columns\n",
        "  df = dp.remove_unused_columns(df, used_columns)\n",
        "\n",
        "  # Removes duplicate rows. Also drops the rows which are having null in all the columns\n",
        "  df = dp.drop_duplicates_nulls(df) \n",
        "\n",
        "  # Converting column names to lower case & replacing spaces with _\n",
        "  df = dp.santize_column_names(df)\n",
        "\n",
        "  # Ensure all the values in 'Summons Number' column are unique\n",
        "  dp.assert_uniqueness(df, column_name=\"summons_number\")\n",
        "\n",
        "  # Converting issue date string type to Date type\n",
        "  df = dp.convert_to_date(df, column_name=\"issue_date\", format=\"MM/dd/yyyy\")\n",
        "\n",
        "  # Removing the rows which are outside of 2017-2021\n",
        "  df = dp.remove_outside_years_data(df, years, \"issue_date\")"
      ]
    },
    {
     "data": {
      "image/png": "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\n",
      "text/plain": [
       "<Figure size 432x288 with 1 Axes>"
      ]
     },
     "metadata": {
      "needs_background": "light"
     },
     "output_type": "display_data"
    }
   ],
   "source": [
    "print('Top5 Body type')\n",
    "ba.violations_by_bodytype(df)\n",
    "\n",
    "print('Top5 Vehicle Make')\n",
    "ba.violations_by_make(df)"
   ]
  },
  {
   "cell_type": "markdown",
   "id": "3e41db30",
   "metadata": {},
   "source": [
    "### 02 Precinct based Analysis\n",
    "\n",
    "A **precinct** is a police station that has a certain zone of the city under its command"
   ]
  },
  {
   "cell_type": "markdown",
   "id": "f4d214ec",
   "metadata": {},
   "source": [
    "#### **Find the (5 highest) frequencies of violating Precincts (this is the precinct of the zone where the violation occurred)**"
   ]
  },
  {
   "cell_type": "code",
   "execution_count": 27,
   "id": "10cb0d15",
   "metadata": {},
   "outputs": [
    {
     "name": "stdout",
     "output_type": "stream",
     "text": [
      "Top 5 Violation precicts\n"
     ]
    },
    {
     "name": "stderr",
     "output_type": "stream",
     "text": [
      "                                                                                \r"
     ]
    },
    {
     "data": {
      "text/html": [
       "<div>\n",
       "<style scoped>\n",
       "    .dataframe tbody tr th:only-of-type {\n",
       "        vertical-align: middle;\n",
       "    }\n",
       "\n",
       "    .dataframe tbody tr th {\n",
       "        vertical-align: top;\n",
       "    }\n",
       "\n",
       "    .dataframe thead th {\n",
       "        text-align: right;\n",
       "    }\n",
       "</style>\n",
       "<table border=\"1\" class=\"dataframe\">\n",
       "  <thead>\n",
       "    <tr style=\"text-align: right;\">\n",
       "      <th></th>\n",
       "      <th>violation_precinct</th>\n",
       "      <th>count(violation_precinct)</th>\n",
       "    </tr>\n",
       "  </thead>\n",
       "  <tbody>\n",
       "    <tr>\n",
       "      <th>0</th>\n",
       "      <td>0</td>\n",
       "      <td>15870961</td>\n",
       "    </tr>\n",
       "    <tr>\n",
       "      <th>1</th>\n",
       "      <td>19</td>\n",
       "      <td>2300008</td>\n",
       "    </tr>\n",
       "    <tr>\n",
       "      <th>2</th>\n",
       "      <td>14</td>\n",
       "      <td>1810244</td>\n",
       "    </tr>\n",
       "    <tr>\n",
       "      <th>3</th>\n",
       "      <td>18</td>\n",
       "      <td>1641317</td>\n",
       "    </tr>\n",
       "    <tr>\n",
       "      <th>4</th>\n",
       "      <td>1</td>\n",
       "      <td>1529859</td>\n",
       "    </tr>\n",
       "    <tr>\n",
       "      <th>...</th>\n",
       "      <td>...</td>\n",
       "      <td>...</td>\n",
       "    </tr>\n",
       "    <tr>\n",
       "      <th>311</th>\n",
       "      <td>717</td>\n",
       "      <td>1</td>\n",
       "    </tr>\n",
       "    <tr>\n",
       "      <th>312</th>\n",
       "      <td>330</td>\n",
       "      <td>1</td>\n",
       "    </tr>\n",
       "    <tr>\n",
       "      <th>313</th>\n",
       "      <td>145</td>\n",
       "      <td>1</td>\n",
       "    </tr>\n",
       "    <tr>\n",
       "      <th>314</th>\n",
       "      <td>946</td>\n",
       "      <td>1</td>\n",
       "    </tr>\n",
       "    <tr>\n",
       "      <th>315</th>\n",
       "      <td>918</td>\n",
       "      <td>1</td>\n",
       "    </tr>\n",
       "  </tbody>\n",
       "</table>\n",
       "<p>316 rows × 2 columns</p>\n",
       "</div>"
      ],
      "text/plain": [
       "    violation_precinct  count(violation_precinct)\n",
       "0                    0                   15870961\n",
       "1                   19                    2300008\n",
       "2                   14                    1810244\n",
       "3                   18                    1641317\n",
       "4                    1                    1529859\n",
       "..                 ...                        ...\n",
       "311                717                          1\n",
       "312                330                          1\n",
       "313                145                          1\n",
       "314                946                          1\n",
       "315                918                          1\n",
       "\n",
       "[316 rows x 2 columns]"
      ]
     },
     "execution_count": 27,
     "metadata": {},
     "output_type": "execute_result"
    }
   ],
   "source": [
    "print('Top 5 Violation precicts')\n",
    "pba.violating_precicts(df, True)"
   ]
  },
  {
   "cell_type": "markdown",
   "id": "cc2f3a80",
   "metadata": {},
   "source": [
    "#### **Find the (5 highest) frequencies of Issuing Precincts (this is the precinct that issued the ticket)**"
   ]
  },
  {
   "cell_type": "code",
   "execution_count": 28,
   "id": "32af2d97",
   "metadata": {},
   "outputs": [
    {
     "name": "stdout",
     "output_type": "stream",
     "text": [
      "Top 5 Issuer precicts\n"
     ]
    },
    {
     "name": "stderr",
     "output_type": "stream",
     "text": [
      "                                                                                \r"
     ]
    },
    {
     "data": {
      "text/html": [
       "<div>\n",
       "<style scoped>\n",
       "    .dataframe tbody tr th:only-of-type {\n",
       "        vertical-align: middle;\n",
       "    }\n",
       "\n",
       "    .dataframe tbody tr th {\n",
       "        vertical-align: top;\n",
       "    }\n",
       "\n",
       "    .dataframe thead th {\n",
       "        text-align: right;\n",
       "    }\n",
       "</style>\n",
       "<table border=\"1\" class=\"dataframe\">\n",
       "  <thead>\n",
       "    <tr style=\"text-align: right;\">\n",
       "      <th></th>\n",
       "      <th>issuer_precinct</th>\n",
       "      <th>count(issuer_precinct)</th>\n",
       "    </tr>\n",
       "  </thead>\n",
       "  <tbody>\n",
       "    <tr>\n",
       "      <th>0</th>\n",
       "      <td>0</td>\n",
       "      <td>17393927</td>\n",
       "    </tr>\n",
       "    <tr>\n",
       "      <th>1</th>\n",
       "      <td>19</td>\n",
       "      <td>2233494</td>\n",
       "    </tr>\n",
       "    <tr>\n",
       "      <th>2</th>\n",
       "      <td>14</td>\n",
       "      <td>1744910</td>\n",
       "    </tr>\n",
       "    <tr>\n",
       "      <th>3</th>\n",
       "      <td>18</td>\n",
       "      <td>1579284</td>\n",
       "    </tr>\n",
       "    <tr>\n",
       "      <th>4</th>\n",
       "      <td>1</td>\n",
       "      <td>1496414</td>\n",
       "    </tr>\n",
       "    <tr>\n",
       "      <th>...</th>\n",
       "      <td>...</td>\n",
       "      <td>...</td>\n",
       "    </tr>\n",
       "    <tr>\n",
       "      <th>828</th>\n",
       "      <td>717</td>\n",
       "      <td>1</td>\n",
       "    </tr>\n",
       "    <tr>\n",
       "      <th>829</th>\n",
       "      <td>847</td>\n",
       "      <td>1</td>\n",
       "    </tr>\n",
       "    <tr>\n",
       "      <th>830</th>\n",
       "      <td>532</td>\n",
       "      <td>1</td>\n",
       "    </tr>\n",
       "    <tr>\n",
       "      <th>831</th>\n",
       "      <td>542</td>\n",
       "      <td>1</td>\n",
       "    </tr>\n",
       "    <tr>\n",
       "      <th>832</th>\n",
       "      <td>990</td>\n",
       "      <td>1</td>\n",
       "    </tr>\n",
       "  </tbody>\n",
       "</table>\n",
       "<p>833 rows × 2 columns</p>\n",
       "</div>"
      ],
      "text/plain": [
       "    issuer_precinct  count(issuer_precinct)\n",
       "0                 0                17393927\n",
       "1                19                 2233494\n",
       "2                14                 1744910\n",
       "3                18                 1579284\n",
       "4                 1                 1496414\n",
       "..              ...                     ...\n",
       "828             717                       1\n",
       "829             847                       1\n",
       "830             532                       1\n",
       "831             542                       1\n",
       "832             990                       1\n",
       "\n",
       "[833 rows x 2 columns]"
      ]
     },
     "execution_count": 28,
     "metadata": {},
     "output_type": "execute_result"
    }
   ],
   "source": [
    "print('Top 5 Issuer precicts')\n",
    "pba.issuing_precincts(df, True)"
   ]
  },
  {
   "cell_type": "markdown",
   "id": "d4c206f2",
   "metadata": {},
   "source": [
    "#### **Find the violation code frequency across 3 precincts which have issued the most number of tickets (Top 5)**"
   ]
  },
  {
   "cell_type": "code",
   "execution_count": 29,
   "id": "69e24954",
   "metadata": {},
   "outputs": [
    {
     "name": "stdout",
     "output_type": "stream",
     "text": [
      "Violation frequencies from top 3 issuer precicts\n"
     ]
    },
    {
     "name": "stderr",
     "output_type": "stream",
     "text": [
      "                                                                                \r"
     ]
    },
    {
     "data": {
      "text/html": [
       "<div>\n",
       "<style scoped>\n",
       "    .dataframe tbody tr th:only-of-type {\n",
       "        vertical-align: middle;\n",
       "    }\n",
       "\n",
       "    .dataframe tbody tr th {\n",
       "        vertical-align: top;\n",
       "    }\n",
       "\n",
       "    .dataframe thead th {\n",
       "        text-align: right;\n",
       "    }\n",
       "</style>\n",
       "<table border=\"1\" class=\"dataframe\">\n",
       "  <thead>\n",
       "    <tr style=\"text-align: right;\">\n",
       "      <th></th>\n",
       "      <th>violation_code</th>\n",
       "      <th>count(violation_code)</th>\n",
       "    </tr>\n",
       "  </thead>\n",
       "  <tbody>\n",
       "    <tr>\n",
       "      <th>0</th>\n",
       "      <td>7</td>\n",
       "      <td>2214178</td>\n",
       "    </tr>\n",
       "    <tr>\n",
       "      <th>1</th>\n",
       "      <td>51</td>\n",
       "      <td>10340</td>\n",
       "    </tr>\n",
       "    <tr>\n",
       "      <th>2</th>\n",
       "      <td>54</td>\n",
       "      <td>11366</td>\n",
       "    </tr>\n",
       "    <tr>\n",
       "      <th>3</th>\n",
       "      <td>15</td>\n",
       "      <td>4</td>\n",
       "    </tr>\n",
       "    <tr>\n",
       "      <th>4</th>\n",
       "      <td>11</td>\n",
       "      <td>16099</td>\n",
       "    </tr>\n",
       "    <tr>\n",
       "      <th>...</th>\n",
       "      <td>...</td>\n",
       "      <td>...</td>\n",
       "    </tr>\n",
       "    <tr>\n",
       "      <th>94</th>\n",
       "      <td>2</td>\n",
       "      <td>292</td>\n",
       "    </tr>\n",
       "    <tr>\n",
       "      <th>95</th>\n",
       "      <td>80</td>\n",
       "      <td>7874</td>\n",
       "    </tr>\n",
       "    <tr>\n",
       "      <th>96</th>\n",
       "      <td>50</td>\n",
       "      <td>21821</td>\n",
       "    </tr>\n",
       "    <tr>\n",
       "      <th>97</th>\n",
       "      <td>45</td>\n",
       "      <td>2939</td>\n",
       "    </tr>\n",
       "    <tr>\n",
       "      <th>98</th>\n",
       "      <td>57</td>\n",
       "      <td>1</td>\n",
       "    </tr>\n",
       "  </tbody>\n",
       "</table>\n",
       "<p>99 rows × 2 columns</p>\n",
       "</div>"
      ],
      "text/plain": [
       "   violation_code  count(violation_code)\n",
       "0               7                2214178\n",
       "1              51                  10340\n",
       "2              54                  11366\n",
       "3              15                      4\n",
       "4              11                  16099\n",
       "..            ...                    ...\n",
       "94              2                    292\n",
       "95             80                   7874\n",
       "96             50                  21821\n",
       "97             45                   2939\n",
       "98             57                      1\n",
       "\n",
       "[99 rows x 2 columns]"
      ]
     },
     "execution_count": 29,
     "metadata": {},
     "output_type": "execute_result"
    },
    {
     "data": {
      "image/png": "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\n",
      "text/plain": [
       "<Figure size 1440x720 with 1 Axes>"
      ]
     },
     "metadata": {
      "needs_background": "light"
     },
     "output_type": "display_data"
    }
   ],
   "source": [
    "print('Violation frequencies from top 3 issuer precicts')\n",
    "pba.violation_code_frequency_top3_precincts(df, True)"
   ]
  },
  {
   "cell_type": "markdown",
   "id": "5f8ef137",
   "metadata": {},
   "source": [
    "### 03 Time based Analysis"
   ]
  },
  {
   "cell_type": "markdown",
   "id": "c5c12fa4",
   "metadata": {},
   "source": [
    "#### **Divide 24 hours into 6 equal discrete bins of time. For each of these groups, find the 3 most commonly occurring violations**"
   ]
  },
  {
   "cell_type": "code",
   "execution_count": null,
   "id": "08481d57",
   "metadata": {},
   "outputs": [],
   "source": []
  },
  {
   "cell_type": "markdown",
   "id": "612033a7",
   "metadata": {},
   "source": [
    "#### **For the 5 most commonly occurring violation codes, find the most common times of day (in terms of the bins from the previous part)**"
   ]
  },
  {
   "cell_type": "code",
   "execution_count": null,
   "id": "550cab1b",
   "metadata": {},
   "outputs": [],
   "source": []
  },
  {
   "cell_type": "markdown",
   "id": "a1445c81",
   "metadata": {},
   "source": [
    "### 04 Year / Season based Analysis"
   ]
  },
  {
   "cell_type": "markdown",
   "id": "30367d8d",
   "metadata": {},
   "source": [
    "#### **What is the average reduction in violations for the year 2020 compared to 2019 (due to COVID), and year 2019 compared to 2018**"
   ]
  },
  {
   "cell_type": "code",
   "execution_count": 30,
   "id": "de1fc82b",
   "metadata": {},
   "outputs": [
    {
     "name": "stdout",
     "output_type": "stream",
     "text": [
      "Reduction in violations due to covid\n"
     ]
    },
    {
     "name": "stderr",
     "output_type": "stream",
     "text": [
      "                                                                                \r"
     ]
    },
    {
     "data": {
      "text/html": [
       "<div>\n",
       "<style scoped>\n",
       "    .dataframe tbody tr th:only-of-type {\n",
       "        vertical-align: middle;\n",
       "    }\n",
       "\n",
       "    .dataframe tbody tr th {\n",
       "        vertical-align: top;\n",
       "    }\n",
       "\n",
       "    .dataframe thead th {\n",
       "        text-align: right;\n",
       "    }\n",
       "</style>\n",
       "<table border=\"1\" class=\"dataframe\">\n",
       "  <thead>\n",
       "    <tr style=\"text-align: right;\">\n",
       "      <th></th>\n",
       "      <th>Reduction Years</th>\n",
       "      <th>Reduction</th>\n",
       "    </tr>\n",
       "  </thead>\n",
       "  <tbody>\n",
       "    <tr>\n",
       "      <th>0</th>\n",
       "      <td>Reduction 2019 from 2018</td>\n",
       "      <td>-7.961579</td>\n",
       "    </tr>\n",
       "    <tr>\n",
       "      <th>1</th>\n",
       "      <td>Reduction 2020 from 2019</td>\n",
       "      <td>-2.400658</td>\n",
       "    </tr>\n",
       "  </tbody>\n",
       "</table>\n",
       "</div>"
      ],
      "text/plain": [
       "            Reduction Years  Reduction\n",
       "0  Reduction 2019 from 2018  -7.961579\n",
       "1  Reduction 2020 from 2019  -2.400658"
      ]
     },
     "execution_count": 30,
     "metadata": {},
     "output_type": "execute_result"
    },
    {
     "data": {
      "image/png": "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\n",
      "text/plain": [
       "<Figure size 360x360 with 1 Axes>"
      ]
     },
     "metadata": {
      "needs_background": "light"
     },
     "output_type": "display_data"
    }
   ],
   "source": [
    "print(\"Reduction in violations due to covid\")\n",
    "sba.reduction_in_violations(df)"
   ]
  },
  {
   "cell_type": "markdown",
   "id": "04b9ddb9",
   "metadata": {},
   "source": [
    "#### **Divide the year into 3 number of seasons, and find frequencies of tickets for each season**"
   ]
  },
  {
   "cell_type": "code",
   "execution_count": 31,
   "id": "3f25bdaf",
   "metadata": {},
   "outputs": [
    {
     "name": "stdout",
     "output_type": "stream",
     "text": [
      "Frequencies of violation in each season\n"
     ]
    },
    {
     "name": "stderr",
     "output_type": "stream",
     "text": [
      "                                                                                \r"
     ]
    },
    {
     "data": {
      "text/html": [
       "<div>\n",
       "<style scoped>\n",
       "    .dataframe tbody tr th:only-of-type {\n",
       "        vertical-align: middle;\n",
       "    }\n",
       "\n",
       "    .dataframe tbody tr th {\n",
       "        vertical-align: top;\n",
       "    }\n",
       "\n",
       "    .dataframe thead th {\n",
       "        text-align: right;\n",
       "    }\n",
       "</style>\n",
       "<table border=\"1\" class=\"dataframe\">\n",
       "  <thead>\n",
       "    <tr style=\"text-align: right;\">\n",
       "      <th></th>\n",
       "      <th>season</th>\n",
       "      <th>No of tickets</th>\n",
       "    </tr>\n",
       "  </thead>\n",
       "  <tbody>\n",
       "    <tr>\n",
       "      <th>0</th>\n",
       "      <td>winter</td>\n",
       "      <td>13684933</td>\n",
       "    </tr>\n",
       "    <tr>\n",
       "      <th>1</th>\n",
       "      <td>summer</td>\n",
       "      <td>16621728</td>\n",
       "    </tr>\n",
       "    <tr>\n",
       "      <th>2</th>\n",
       "      <td>spring</td>\n",
       "      <td>14816765</td>\n",
       "    </tr>\n",
       "    <tr>\n",
       "      <th>3</th>\n",
       "      <td>autumn</td>\n",
       "      <td>14953058</td>\n",
       "    </tr>\n",
       "  </tbody>\n",
       "</table>\n",
       "</div>"
      ],
      "text/plain": [
       "   season  No of tickets\n",
       "0  winter       13684933\n",
       "1  summer       16621728\n",
       "2  spring       14816765\n",
       "3  autumn       14953058"
      ]
     },
     "execution_count": 31,
     "metadata": {},
     "output_type": "execute_result"
    },
    {
     "data": {
      "image/png": "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\n",
      "text/plain": [
       "<Figure size 360x360 with 1 Axes>"
      ]
     },
     "metadata": {
      "needs_background": "light"
     },
     "output_type": "display_data"
    }
   ],
   "source": [
    "print(\"Frequencies of violation in each season\")\n",
    "sba.season_violation_frequencies(df)"
   ]
  },
  {
   "cell_type": "markdown",
   "id": "c97265c7",
   "metadata": {},
   "source": [
    "#### **Find the 3 most common violations for each of these seasons**"
   ]
  },
  {
   "cell_type": "code",
   "execution_count": 32,
   "id": "7c7784aa",
   "metadata": {},
   "outputs": [
    {
     "name": "stdout",
     "output_type": "stream",
     "text": [
      "Frequencies of violation in each season\n"
     ]
    },
    {
     "name": "stderr",
     "output_type": "stream",
     "text": [
      "                                                                                \r"
     ]
    },
    {
     "data": {
      "text/html": [
       "<div>\n",
       "<style scoped>\n",
       "    .dataframe tbody tr th:only-of-type {\n",
       "        vertical-align: middle;\n",
       "    }\n",
       "\n",
       "    .dataframe tbody tr th {\n",
       "        vertical-align: top;\n",
       "    }\n",
       "\n",
       "    .dataframe thead th {\n",
       "        text-align: right;\n",
       "    }\n",
       "</style>\n",
       "<table border=\"1\" class=\"dataframe\">\n",
       "  <thead>\n",
       "    <tr style=\"text-align: right;\">\n",
       "      <th></th>\n",
       "      <th>Violation Code</th>\n",
       "      <th>Frequency</th>\n",
       "      <th>Season</th>\n",
       "    </tr>\n",
       "  </thead>\n",
       "  <tbody>\n",
       "    <tr>\n",
       "      <th>0</th>\n",
       "      <td>36</td>\n",
       "      <td>3238563</td>\n",
       "      <td>spring</td>\n",
       "    </tr>\n",
       "    <tr>\n",
       "      <th>1</th>\n",
       "      <td>21</td>\n",
       "      <td>1831167</td>\n",
       "      <td>spring</td>\n",
       "    </tr>\n",
       "    <tr>\n",
       "      <th>2</th>\n",
       "      <td>38</td>\n",
       "      <td>1237690</td>\n",
       "      <td>spring</td>\n",
       "    </tr>\n",
       "    <tr>\n",
       "      <th>3</th>\n",
       "      <td>36</td>\n",
       "      <td>2366506</td>\n",
       "      <td>winter</td>\n",
       "    </tr>\n",
       "    <tr>\n",
       "      <th>4</th>\n",
       "      <td>21</td>\n",
       "      <td>1830435</td>\n",
       "      <td>winter</td>\n",
       "    </tr>\n",
       "    <tr>\n",
       "      <th>5</th>\n",
       "      <td>38</td>\n",
       "      <td>1311105</td>\n",
       "      <td>winter</td>\n",
       "    </tr>\n",
       "    <tr>\n",
       "      <th>6</th>\n",
       "      <td>36</td>\n",
       "      <td>3644846</td>\n",
       "      <td>summer</td>\n",
       "    </tr>\n",
       "    <tr>\n",
       "      <th>7</th>\n",
       "      <td>21</td>\n",
       "      <td>2291042</td>\n",
       "      <td>summer</td>\n",
       "    </tr>\n",
       "    <tr>\n",
       "      <th>8</th>\n",
       "      <td>38</td>\n",
       "      <td>1364002</td>\n",
       "      <td>summer</td>\n",
       "    </tr>\n",
       "    <tr>\n",
       "      <th>9</th>\n",
       "      <td>36</td>\n",
       "      <td>2881193</td>\n",
       "      <td>autumn</td>\n",
       "    </tr>\n",
       "    <tr>\n",
       "      <th>10</th>\n",
       "      <td>21</td>\n",
       "      <td>1967406</td>\n",
       "      <td>autumn</td>\n",
       "    </tr>\n",
       "    <tr>\n",
       "      <th>11</th>\n",
       "      <td>38</td>\n",
       "      <td>1379824</td>\n",
       "      <td>autumn</td>\n",
       "    </tr>\n",
       "  </tbody>\n",
       "</table>\n",
       "</div>"
      ],
      "text/plain": [
       "   Violation Code  Frequency  Season\n",
       "0              36    3238563  spring\n",
       "1              21    1831167  spring\n",
       "2              38    1237690  spring\n",
       "3              36    2366506  winter\n",
       "4              21    1830435  winter\n",
       "5              38    1311105  winter\n",
       "6              36    3644846  summer\n",
       "7              21    2291042  summer\n",
       "8              38    1364002  summer\n",
       "9              36    2881193  autumn\n",
       "10             21    1967406  autumn\n",
       "11             38    1379824  autumn"
      ]
     },
     "execution_count": 32,
     "metadata": {},
     "output_type": "execute_result"
    },
    {
     "data": {
      "image/png": "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\n",
      "text/plain": [
       "<Figure size 720x360 with 1 Axes>"
      "cell_type": "markdown",
      "id": "431b5f55",
      "metadata": {
        "id": "431b5f55"
      },
      "source": [
        "## Sample file generation"
      ]
    },
    {
      "cell_type": "code",
      "execution_count": 81,
      "id": "29c39b41",
      "metadata": {
        "id": "29c39b41"
      },
      "outputs": [],
      "source": [
        "from pathlib import Path\n",
        "from shutil import rmtree\n",
        "\n",
        "def write_CSV(df, CSV_path):\n",
        "  \n",
        "  # Creates CSV in a folder. But memory efficient\n",
        "  df.coalesce(1).write.mode(\"overwrite\").csv(CSV_path, header=True) \n",
        "\n",
        "  # OOM\n",
        "  # df.toPandas().to_csv(CSV_path, index=False)\n",
        "\n",
        "  # Moving file to data folder\n",
        "  f_path = list(Path(CSV_path).glob('*.csv'))[0]\n",
        "  Path(f_path).rename(CSV_path+'.tmp')\n",
        "  rmtree(CSV_path)\n",
        "  Path(CSV_path+'.tmp').rename(CSV_path)\n"
      ]
    },
    {
      "cell_type": "code",
      "execution_count": 82,
      "id": "f174c9d6",
      "metadata": {
        "id": "f174c9d6"
      },
      "outputs": [
        {
          "name": "stderr",
          "output_type": "stream",
          "text": []
        },
        {
          "name": "stdout",
          "output_type": "stream",
          "text": [
            "Sample records: 100000\n"
          ]
        },
        {
          "name": "stderr",
          "output_type": "stream",
          "text": []
        }
      ],
      "source": [
        "if (not processed_file and sample_CSV_generate):\n",
        "  total_records = df.count()\n",
        "  fraction = (sample_CSV_records+10000)/total_records # Exact records are not coming. Hence increasing the fraction using 10k\n",
        "  sample_df = df.sample(fraction=fraction, seed=sample_seed).limit(sample_CSV_records) # Getting exact number of records\n",
        "  print(f\"Sample records: {sample_df.count()}\")\n",
        "  write_CSV(sample_df, sample_CSV_path)\n",
        "  df = sample_df"
      ]
    },
    {
      "cell_type": "markdown",
      "id": "320e4c5c",
      "metadata": {
        "id": "320e4c5c"
      },
      "source": [
        "## Final DF / Table for Analysis"
      ]
    },
    {
      "cell_type": "code",
      "execution_count": 83,
      "id": "3fb36275",
      "metadata": {
        "id": "3fb36275"
      },
      "outputs": [
        {
          "name": "stderr",
          "output_type": "stream",
          "text": []
        },
        {
          "name": "stdout",
          "output_type": "stream",
          "text": [
            "Shape : (100000, 13)\n",
            "root\n",
            " |-- summons_number: long (nullable = true)\n",
            " |-- plate_id: string (nullable = true)\n",
            " |-- registration_state: string (nullable = true)\n",
            " |-- plate_type: string (nullable = true)\n",
            " |-- issue_date: date (nullable = true)\n",
            " |-- violation_code: integer (nullable = true)\n",
            " |-- vehicle_body_type: string (nullable = true)\n",
            " |-- vehicle_make: string (nullable = true)\n",
            " |-- violation_precinct: integer (nullable = true)\n",
            " |-- issuer_precinct: integer (nullable = true)\n",
            " |-- violation_time: string (nullable = true)\n",
            " |-- vehicle_color: string (nullable = true)\n",
            " |-- violation_description: string (nullable = true)\n",
            "\n",
            "+--------------+--------+------------------+----------+----------+--------------+-----------------+------------+------------------+---------------+--------------+-------------+---------------------+\n",
            "|summons_number|plate_id|registration_state|plate_type|issue_date|violation_code|vehicle_body_type|vehicle_make|violation_precinct|issuer_precinct|violation_time|vehicle_color|violation_description|\n",
            "+--------------+--------+------------------+----------+----------+--------------+-----------------+------------+------------------+---------------+--------------+-------------+---------------------+\n",
            "|    4018022773| KEJ7217|                NY|       PAS|2021-07-07|             5|             2DSD|        FORD|                 0|              0|         0116P|           GY|   BUS LANE VIOLATION|\n",
            "|    4740488050| KFP2329|                NY|       PAS|2021-07-15|            36|             SUBN|       TOYOT|                 0|              0|         0123P|           GY| PHTO SCHOOL ZN SP...|\n",
            "+--------------+--------+------------------+----------+----------+--------------+-----------------+------------+------------------+---------------+--------------+-------------+---------------------+\n",
            "only showing top 2 rows\n",
            "\n"
          ]
        },
        {
          "name": "stderr",
          "output_type": "stream",
          "text": []
        }
      ],
      "source": [
        "df.cache() # Cache the data\n",
        "total_records = df.count() # Materialize the cache\n",
        "print(f'Shape : {(total_records, len(df.columns))}')\n",
        "df.printSchema()\n",
        "df.show(2)"
      ]
    },
    {
      "cell_type": "code",
      "execution_count": 84,
      "id": "58454c2c",
      "metadata": {
        "id": "58454c2c"
      },
      "outputs": [
        {
          "data": {
            "text/plain": [
              "False"
            ]
          },
          "execution_count": 84,
          "metadata": {},
          "output_type": "execute_result"
        }
      ],
      "source": [
        "presenting and df.describe().toPandas().transpose() # More execution time"
      ]
    },
    {
      "cell_type": "code",
      "execution_count": 85,
      "id": "abcf80ee",
      "metadata": {
        "id": "abcf80ee"
      },
      "outputs": [],
      "source": [
        "df.createOrReplaceTempView(\"NYCPV\")"
      ]
    },
    {
      "cell_type": "markdown",
      "id": "d59c5268",
      "metadata": {
        "id": "d59c5268"
      },
      "source": [
        "## Analysis"
      ]
    },
    {
      "cell_type": "markdown",
      "id": "2fe351ef",
      "metadata": {
        "id": "2fe351ef"
      },
      "source": [
        "### 01 Basic Analysis"
      ]
    },
    {
      "cell_type": "markdown",
      "id": "97891422",
      "metadata": {
        "id": "97891422"
      },
      "source": [
        "#### **How often does each violation code occur? (frequency of violation codes find the top 5) ?** "
      ]
    },
    {
      "cell_type": "code",
      "execution_count": 86,
      "id": "303f258f",
      "metadata": {
        "id": "303f258f"
      },
      "outputs": [
        {
          "name": "stdout",
          "output_type": "stream",
          "text": [
            "Top5 frequency of violation codes\n"
          ]
        },
        {
          "data": {
            "text/plain": [
              "<Figure size 432x288 with 0 Axes>"
            ]
          },
          "metadata": {},
          "output_type": "display_data"
        },
        {
          "data": {
            "image/png": "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",
            "text/plain": [
              "<Figure size 432x288 with 1 Axes>"
            ]
          },
          "metadata": {
            "needs_background": "light"
          },
          "output_type": "display_data"
        },
        {
          "data": {
            "text/plain": [
              "DataFrame[violation_code: int, no_of_tickets: bigint]"
            ]
          },
          "execution_count": 86,
          "metadata": {},
          "output_type": "execute_result"
        }
      ],
      "source": [
        "print('Top5 frequency of violation codes')\n",
        "ba.violation_frequencey(df)"
      ]
    },
    {
      "cell_type": "markdown",
      "id": "de816e61",
      "metadata": {
        "id": "de816e61"
      },
      "source": [
        "#### **How often does each vehicle body type get a parking ticket? How about the vehicle make? (find the top 5 for both) ?**"
      ]
    },
    {
      "cell_type": "code",
      "execution_count": 87,
      "id": "897da883",
      "metadata": {
        "id": "897da883"
      },
      "outputs": [
        {
          "name": "stdout",
          "output_type": "stream",
          "text": [
            "Top5 Body type\n"
          ]
        },
        {
          "data": {
            "text/plain": [
              "<Figure size 432x288 with 0 Axes>"
            ]
          },
          "metadata": {},
          "output_type": "display_data"
        },
        {
          "data": {
            "image/png": "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",
            "text/plain": [
              "<Figure size 432x288 with 1 Axes>"
            ]
          },
          "metadata": {
            "needs_background": "light"
          },
          "output_type": "display_data"
        },
        {
          "name": "stdout",
          "output_type": "stream",
          "text": [
            "Top5 Vehicle Make\n"
          ]
        },
        {
          "data": {
            "text/plain": [
              "<Figure size 432x288 with 0 Axes>"
            ]
          },
          "metadata": {},
          "output_type": "display_data"
        },
        {
          "data": {
            "image/png": "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",
            "text/plain": [
              "<Figure size 432x288 with 1 Axes>"
            ]
          },
          "metadata": {
            "needs_background": "light"
          },
          "output_type": "display_data"
        },
        {
          "data": {
            "text/plain": [
              "DataFrame[vehicle_make: string, Ticket_Frequency: bigint]"
            ]
          },
          "execution_count": 87,
          "metadata": {},
          "output_type": "execute_result"
        }
      ],
      "source": [
        "print('Top5 Body type')\n",
        "ba.violations_by_bodytype(df)\n",
        "\n",
        "print('Top5 Vehicle Make')\n",
        "ba.violations_by_make(df)"
      ]
    },
    {
      "cell_type": "markdown",
      "id": "3e41db30",
      "metadata": {
        "id": "3e41db30"
      },
      "source": [
        "### 02 Precinct based Analysis\n",
        "\n",
        "A **precinct** is a police station that has a certain zone of the city under its command"
      ]
    },
    {
      "cell_type": "markdown",
      "id": "f4d214ec",
      "metadata": {
        "id": "f4d214ec"
      },
      "source": [
        "#### **Find the (5 highest) frequencies of violating Precincts (this is the precinct of the zone where the violation occurred)**"
      ]
    },
    {
      "cell_type": "code",
      "execution_count": 88,
      "id": "10cb0d15",
      "metadata": {
        "id": "10cb0d15"
      },
      "outputs": [
        {
          "name": "stdout",
          "output_type": "stream",
          "text": [
            "Top 5 Violation precicts\n",
            "+------------------+-------------------------+\n",
            "|violation_precinct|count(violation_precinct)|\n",
            "+------------------+-------------------------+\n",
            "|                 0|                    40583|\n",
            "|                19|                     2728|\n",
            "|                18|                     2356|\n",
            "|               114|                     2299|\n",
            "|                14|                     2207|\n",
            "+------------------+-------------------------+\n",
            "only showing top 5 rows\n",
            "\n",
            "[Row(violation_precinct=0, count(violation_precinct)=40583), Row(violation_precinct=19, count(violation_precinct)=2728), Row(violation_precinct=18, count(violation_precinct)=2356), Row(violation_precinct=114, count(violation_precinct)=2299), Row(violation_precinct=14, count(violation_precinct)=2207)]\n"
          ]
        }
      ],
      "source": [
        "print('Top 5 Violation precicts')\n",
        "print(pba.violating_precicts(df, True))"
      ]
    },
    {
      "cell_type": "markdown",
      "id": "cc2f3a80",
      "metadata": {
        "id": "cc2f3a80"
      },
      "source": [
        "#### **Find the (5 highest) frequencies of Issuing Precincts (this is the precinct that issued the ticket)**"
      ]
    },
    {
      "cell_type": "code",
      "execution_count": 89,
      "id": "32af2d97",
      "metadata": {
        "id": "32af2d97"
      },
      "outputs": [
        {
          "name": "stdout",
          "output_type": "stream",
          "text": [
            "Top 5 Issuer precicts\n",
            "+---------------+----------------------+\n",
            "|issuer_precinct|count(issuer_precinct)|\n",
            "+---------------+----------------------+\n",
            "|              0|                 43101|\n",
            "|             19|                  2651|\n",
            "|             18|                  2356|\n",
            "|            114|                  2249|\n",
            "|             14|                  2198|\n",
            "+---------------+----------------------+\n",
            "only showing top 5 rows\n",
            "\n",
            "[Row(issuer_precinct=0, count(issuer_precinct)=43101), Row(issuer_precinct=19, count(issuer_precinct)=2651), Row(issuer_precinct=18, count(issuer_precinct)=2356), Row(issuer_precinct=114, count(issuer_precinct)=2249), Row(issuer_precinct=14, count(issuer_precinct)=2198)]\n"
          ]
        }
      ],
      "source": [
        "print('Top 5 Issuer precicts')\n",
        "print(pba.issuing_precincts(df, True))"
      ]
    },
    {
      "cell_type": "markdown",
      "id": "d4c206f2",
      "metadata": {
        "id": "d4c206f2"
      },
      "source": [
        "#### **Find the violation code frequency across 3 precincts which have issued the most number of tickets (Top 5)**"
      ]
    },
    {
      "cell_type": "code",
      "execution_count": 90,
      "id": "69e24954",
      "metadata": {
        "id": "69e24954"
      },
      "outputs": [
        {
          "name": "stdout",
          "output_type": "stream",
          "text": [
            "Violation frequencies from top 3 issuer precicts\n",
            "[Row(violation_code=5, count(violation_code)=4087), Row(violation_code=36, count(violation_code)=31645), Row(violation_code=78, count(violation_code)=12), Row(violation_code=12, count(violation_code)=307), Row(violation_code=7, count(violation_code)=4514), Row(violation_code=21, count(violation_code)=2576), Row(violation_code=14, count(violation_code)=1025), Row(violation_code=69, count(violation_code)=326), Row(violation_code=19, count(violation_code)=152), Row(violation_code=37, count(violation_code)=158), Row(violation_code=38, count(violation_code)=494), Row(violation_code=6, count(violation_code)=3), Row(violation_code=85, count(violation_code)=18), Row(violation_code=74, count(violation_code)=104), Row(violation_code=70, count(violation_code)=110), Row(violation_code=71, count(violation_code)=186), Row(violation_code=42, count(violation_code)=86), Row(violation_code=20, count(violation_code)=397), Row(violation_code=40, count(violation_code)=257), Row(violation_code=47, count(violation_code)=164), Row(violation_code=16, count(violation_code)=215), Row(violation_code=66, count(violation_code)=55), Row(violation_code=17, count(violation_code)=95), Row(violation_code=31, count(violation_code)=346), Row(violation_code=48, count(violation_code)=15), Row(violation_code=0, count(violation_code)=7), Row(violation_code=46, count(violation_code)=205), Row(violation_code=64, count(violation_code)=17), Row(violation_code=44, count(violation_code)=2), Row(violation_code=84, count(violation_code)=116), Row(violation_code=10, count(violation_code)=103), Row(violation_code=11, count(violation_code)=7), Row(violation_code=18, count(violation_code)=86), Row(violation_code=50, count(violation_code)=20), Row(violation_code=53, count(violation_code)=27), Row(violation_code=80, count(violation_code)=11), Row(violation_code=51, count(violation_code)=11), Row(violation_code=82, count(violation_code)=37), Row(violation_code=87, count(violation_code)=6), Row(violation_code=73, count(violation_code)=5), Row(violation_code=22, count(violation_code)=10), Row(violation_code=83, count(violation_code)=10), Row(violation_code=9, count(violation_code)=10), Row(violation_code=67, count(violation_code)=7), Row(violation_code=75, count(violation_code)=6), Row(violation_code=76, count(violation_code)=2), Row(violation_code=26, count(violation_code)=2), Row(violation_code=72, count(violation_code)=2), Row(violation_code=13, count(violation_code)=35), Row(violation_code=98, count(violation_code)=4), Row(violation_code=33, count(violation_code)=6), Row(violation_code=99, count(violation_code)=2), Row(violation_code=61, count(violation_code)=4), Row(violation_code=24, count(violation_code)=1)]\n"
          ]
        },
        {
          "data": {
            "image/png": "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",
            "text/plain": [
              "<Figure size 1440x720 with 1 Axes>"
            ]
          },
          "metadata": {
            "needs_background": "light"
          },
          "output_type": "display_data"
        }
      ],
      "source": [
        "print('Violation frequencies from top 3 issuer precicts')\n",
        "print(pba.violation_code_frequency_top3_precincts(df, True))"
      ]
    },
    {
      "cell_type": "markdown",
      "id": "5f8ef137",
      "metadata": {
        "id": "5f8ef137"
      },
      "source": [
        "### 03 Time based Analysis"
      ]
    },
    {
      "cell_type": "markdown",
      "id": "c5c12fa4",
      "metadata": {
        "id": "c5c12fa4"
      },
      "source": [
        "#### **Divide 24 hours into 6 equal discrete bins of time. For each of these groups, find the 3 most commonly occurring violations**"
      ]
    },
    {
      "cell_type": "code",
      "execution_count": null,
      "id": "08481d57",
      "metadata": {
        "id": "08481d57"
      },
      "outputs": [],
      "source": []
    },
    {
      "cell_type": "markdown",
      "id": "612033a7",
      "metadata": {
        "id": "612033a7"
      },
      "source": [
        "#### **For the 5 most commonly occurring violation codes, find the most common times of day (in terms of the bins from the previous part)**"
      ]
    },
    {
      "cell_type": "code",
      "execution_count": null,
      "id": "550cab1b",
      "metadata": {
        "id": "550cab1b"
      },
      "outputs": [],
      "source": []
    },
    {
      "cell_type": "markdown",
      "id": "a1445c81",
      "metadata": {
        "id": "a1445c81"
      },
      "source": [
        "### 04 Year / Season based Analysis"
      ]
    },
    {
      "cell_type": "markdown",
      "id": "30367d8d",
      "metadata": {
        "id": "30367d8d"
      },
      "source": [
        "#### **What is the average reduction in violations for the year 2020 compared to 2019 (due to COVID), and year 2019 compared to 2018**"
      ]
    },
    {
      "cell_type": "code",
      "execution_count": 91,
      "id": "de1fc82b",
      "metadata": {
        "id": "de1fc82b"
      },
      "outputs": [
        {
          "name": "stdout",
          "output_type": "stream",
          "text": [
            "Reduction in violations due to covid\n"
          ]
        },
        {
          "ename": "ZeroDivisionError",
          "evalue": "division by zero",
          "output_type": "error",
          "traceback": [
            "\u001b[0;31m---------------------------------------------------------------------------\u001b[0m",
            "\u001b[0;31mZeroDivisionError\u001b[0m                         Traceback (most recent call last)",
            "\u001b[0;32m/tmp/ipykernel_336/3724534853.py\u001b[0m in \u001b[0;36m<module>\u001b[0;34m\u001b[0m\n\u001b[1;32m      1\u001b[0m \u001b[0mprint\u001b[0m\u001b[0;34m(\u001b[0m\u001b[0;34m\"Reduction in violations due to covid\"\u001b[0m\u001b[0;34m)\u001b[0m\u001b[0;34m\u001b[0m\u001b[0;34m\u001b[0m\u001b[0m\n\u001b[0;32m----> 2\u001b[0;31m \u001b[0msba\u001b[0m\u001b[0;34m.\u001b[0m\u001b[0mreduction_in_violations\u001b[0m\u001b[0;34m(\u001b[0m\u001b[0mdf\u001b[0m\u001b[0;34m)\u001b[0m\u001b[0;34m\u001b[0m\u001b[0;34m\u001b[0m\u001b[0m\n\u001b[0m",
            "\u001b[0;32m~/workspace/git/NYC_Parking_Analysis/notebooks/season_based_analysis.py\u001b[0m in \u001b[0;36mreduction_in_violations\u001b[0;34m(nyc_data)\u001b[0m\n\u001b[1;32m     19\u001b[0m     \u001b[0max\u001b[0m\u001b[0;34m.\u001b[0m\u001b[0mbar\u001b[0m\u001b[0;34m(\u001b[0m\u001b[0myears\u001b[0m\u001b[0;34m,\u001b[0m \u001b[0mviolations\u001b[0m\u001b[0;34m,\u001b[0m \u001b[0mcolor\u001b[0m\u001b[0;34m=\u001b[0m\u001b[0;34m'blue'\u001b[0m\u001b[0;34m)\u001b[0m\u001b[0;34m\u001b[0m\u001b[0;34m\u001b[0m\u001b[0m\n\u001b[1;32m     20\u001b[0m \u001b[0;34m\u001b[0m\u001b[0m\n\u001b[0;32m---> 21\u001b[0;31m     \u001b[0mreduction_2019_2018\u001b[0m \u001b[0;34m=\u001b[0m \u001b[0;34m(\u001b[0m\u001b[0;34m(\u001b[0m\u001b[0mviolations_2018\u001b[0m \u001b[0;34m-\u001b[0m \u001b[0mviolations_2019\u001b[0m\u001b[0;34m)\u001b[0m\u001b[0;34m/\u001b[0m\u001b[0mviolations_2018\u001b[0m\u001b[0;34m)\u001b[0m \u001b[0;34m*\u001b[0m \u001b[0;36m100\u001b[0m\u001b[0;34m\u001b[0m\u001b[0;34m\u001b[0m\u001b[0m\n\u001b[0m\u001b[1;32m     22\u001b[0m     \u001b[0mreduction_2020_2018\u001b[0m \u001b[0;34m=\u001b[0m \u001b[0;34m(\u001b[0m\u001b[0;34m(\u001b[0m\u001b[0mviolations_2019\u001b[0m \u001b[0;34m-\u001b[0m \u001b[0mviolations_2020\u001b[0m\u001b[0;34m)\u001b[0m\u001b[0;34m/\u001b[0m\u001b[0mviolations_2019\u001b[0m\u001b[0;34m)\u001b[0m \u001b[0;34m*\u001b[0m \u001b[0;36m100\u001b[0m\u001b[0;34m\u001b[0m\u001b[0;34m\u001b[0m\u001b[0m\n\u001b[1;32m     23\u001b[0m     \u001b[0mprint\u001b[0m\u001b[0;34m(\u001b[0m\u001b[0;34mf'Reduction in 2019 from 2018 {reduction_2019_2018}'\u001b[0m\u001b[0;34m)\u001b[0m\u001b[0;34m\u001b[0m\u001b[0;34m\u001b[0m\u001b[0m\n",
            "\u001b[0;31mZeroDivisionError\u001b[0m: division by zero"
          ]
        },
        {
          "data": {
            "image/png": "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",
            "text/plain": [
              "<Figure size 360x360 with 1 Axes>"
            ]
          },
          "metadata": {
            "needs_background": "light"
          },
          "output_type": "display_data"
        }
      ],
      "source": [
        "print(\"Reduction in violations due to covid\")\n",
        "sba.reduction_in_violations(df)"
      ]
    },
    {
      "cell_type": "markdown",
      "id": "04b9ddb9",
      "metadata": {
        "id": "04b9ddb9"
      },
      "source": [
        "#### **Divide the year into 3 number of seasons, and find frequencies of tickets for each season**"
      ]
    },
    {
      "cell_type": "code",
      "execution_count": null,
      "id": "3f25bdaf",
      "metadata": {
        "id": "3f25bdaf"
      },
      "outputs": [
        {
          "name": "stdout",
          "output_type": "stream",
          "text": [
            "Frequencies of violation in each season\n"
          ]
        },
        {
          "data": {
            "text/plain": [
              "DataFrame[season: string, No of tickets: bigint]"
            ]
          },
          "execution_count": 21,
          "metadata": {},
          "output_type": "execute_result"
        },
        {
          "data": {
            "image/png": "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",
            "text/plain": [
              "<Figure size 360x360 with 1 Axes>"
            ]
          },
          "metadata": {
            "needs_background": "light"
          },
          "output_type": "display_data"
        }
      ],
      "source": [
        "print(\"Frequencies of violation in each season\")\n",
        "sba.season_violation_frequencies(df)"
      ]
    },
    {
      "cell_type": "markdown",
      "id": "c97265c7",
      "metadata": {
        "id": "c97265c7"
      },
      "source": [
        "#### **Find the 3 most common violations for each of these seasons**"
      ]
    },
    {
      "cell_type": "code",
      "execution_count": null,
      "id": "7c7784aa",
      "metadata": {
        "id": "7c7784aa"
      },
      "outputs": [
        {
          "name": "stdout",
          "output_type": "stream",
          "text": [
            "Frequencies of violation in each season\n"
          ]
        },
        {
          "data": {
            "text/plain": [
              "[Row(violation_code='36', Freq of Violations=6072, season='spring'),\n",
              " Row(violation_code='21', Freq of Violations=2230, season='spring'),\n",
              " Row(violation_code='38', Freq of Violations=1465, season='spring'),\n",
              " Row(violation_code='36', Freq of Violations=4408, season='winter'),\n",
              " Row(violation_code='21', Freq of Violations=2812, season='winter'),\n",
              " Row(violation_code='38', Freq of Violations=1927, season='winter'),\n",
              " Row(violation_code='36', Freq of Violations=7846, season='summer'),\n",
              " Row(violation_code='21', Freq of Violations=3776, season='summer'),\n",
              " Row(violation_code='38', Freq of Violations=2327, season='summer'),\n",
              " Row(violation_code='36', Freq of Violations=5780, season='autumn'),\n",
              " Row(violation_code='21', Freq of Violations=3610, season='autumn'),\n",
              " Row(violation_code='38', Freq of Violations=2558, season='autumn')]"
            ]
          },
          "execution_count": 22,
          "metadata": {},
          "output_type": "execute_result"
        },
        {
          "data": {
            "image/png": "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",
            "text/plain": [
              "<Figure size 720x360 with 1 Axes>"
            ]
          },
          "metadata": {
            "needs_background": "light"
          },
          "output_type": "display_data"
        }
      ],
      "source": [
        "print(\"Frequencies of violation in each season\")\n",
        "sba.common_violations_season(df)"
      ]
    },
    {
      "cell_type": "markdown",
      "id": "1030a1d6",
      "metadata": {
        "id": "1030a1d6"
      },
      "source": [
        "### 05 Revenue based Analysis\n",
        "\n",
        "The fines collected from all the parking violation constitute a revenue source for the NYC police department\n",
        "Fine amounts for each violation code are listed here https://www1.nyc.gov/site/finance/vehicles/services-violation-codes.page"
      ]
    },
    {
      "cell_type": "markdown",
      "id": "6d0f593a",
      "metadata": {
        "id": "6d0f593a"
      },
      "source": [
        "#### **Find the total amount collected year wise**"
      ]
    },
    {
      "cell_type": "code",
      "execution_count": null,
      "id": "6893040f",
      "metadata": {
        "id": "6893040f"
      },
      "outputs": [],
      "source": []
    },
    {
      "cell_type": "markdown",
      "id": "119d22f6",
      "metadata": {
        "id": "119d22f6"
      },
      "source": [
        "#### **Find the top 5 violation codes which collected highest amount**"
      ]
    },
    {
      "cell_type": "code",
      "execution_count": null,
      "id": "b8fb7e07",
      "metadata": {
        "id": "b8fb7e07"
      },
      "outputs": [],
      "source": []
    },
    {
      "cell_type": "markdown",
      "id": "9139cb98",
      "metadata": {
        "id": "9139cb98"
      },
      "source": [
        "### 06 Miscellaneous Analysis"
      ]
    },
    {
      "cell_type": "code",
      "execution_count": null,
      "id": "735fd35d",
      "metadata": {
        "id": "735fd35d"
      },
      "outputs": [],
      "source": [
        "# spark.stop() #TODO: Use this at the end of the script"
      ]
    }
  ],
  "metadata": {
    "colab": {
      "name": "nyc_parking_analysis.ipynb",
      "provenance": []
    },
    "interpreter": {
      "hash": "77b0c884bf9a8c123a3b4d947573202ae62508f6aa4f4128a2a251680436629f"
    },
    "kernelspec": {
      "display_name": "Python 3 (ipykernel)",
      "language": "python",
      "name": "python3"
    },
    "language_info": {
      "codemirror_mode": {
        "name": "ipython",
        "version": 3
      },
      "file_extension": ".py",
      "mimetype": "text/x-python",
      "name": "python",
      "nbconvert_exporter": "python",
      "pygments_lexer": "ipython3",
      "version": "3.9.7"
    }
  },
  "nbformat": 4,
  "nbformat_minor": 5
}
